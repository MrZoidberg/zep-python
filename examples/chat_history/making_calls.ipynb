{
 "cells": [
  {
   "cell_type": "code",
   "id": "initial_id",
   "metadata": {
    "collapsed": true,
    "ExecuteTime": {
     "end_time": "2024-05-31T03:47:27.799714Z",
     "start_time": "2024-05-31T03:47:27.669479Z"
    }
   },
   "source": [
    "from dotenv import load_dotenv\n",
    "from pydantic import BaseModel, Field, AfterValidator, WithJsonSchema, PlainSerializer\n",
    "from typing_extensions import Annotated \n",
    "from typing import Optional\n",
    "from zep_cloud.client import AsyncZep\n",
    "\n",
    "load_dotenv()"
   ],
   "outputs": [
    {
     "data": {
      "text/plain": [
       "True"
      ]
     },
     "execution_count": 1,
     "metadata": {},
     "output_type": "execute_result"
    }
   ],
   "execution_count": 1
  },
  {
   "metadata": {
    "ExecuteTime": {
     "end_time": "2024-05-31T03:47:39.197627Z",
     "start_time": "2024-05-31T03:47:39.165362Z"
    }
   },
   "cell_type": "code",
   "source": [
    "class ZepExtractorModel(BaseModel):    \n",
    "    _client: AsyncZep\n",
    "    session_id: str\n",
    "    last_n_messages: Optional[int] = None\n",
    "    \n",
    "    def extract(self):\n",
    "        print(\"hiiii\")\n",
    "        self._client.memory.extract_session_data(self.session_id, last_n_messages=self.last_n_messages)"
   ],
   "id": "80295497b75c556f",
   "outputs": [],
   "execution_count": 2
  },
  {
   "metadata": {
    "ExecuteTime": {
     "end_time": "2024-05-31T03:47:43.079842Z",
     "start_time": "2024-05-31T03:47:43.072270Z"
    }
   },
   "cell_type": "code",
   "source": [
    "import typing\n",
    "from zep_cloud import ZepDataType\n",
    "\n",
    "\n",
    "class ZepBaseFloat(BaseModel):\n",
    "    description: typing.Optional[str] = None\n",
    "    type: ZepDataType = \"ZepFloat\"\n",
    "\n",
    "ZepFloat = Annotated[\n",
    "    float | None,\n",
    "    Field(default=None, zeptype=\"ZepFloat\"),\n",
    "    WithJsonSchema(ZepBaseFloat.model_json_schema(), mode='serialization'),\n",
    "]"
   ],
   "id": "ba1effe320ef2b5a",
   "outputs": [],
   "execution_count": 3
  },
  {
   "metadata": {
    "ExecuteTime": {
     "end_time": "2024-05-31T03:47:45.083565Z",
     "start_time": "2024-05-31T03:47:45.078334Z"
    }
   },
   "cell_type": "code",
   "source": [
    "class ZepBaseText(BaseModel):\n",
    "    description: typing.Optional[str] = None\n",
    "    type: ZepDataType = \"ZepText\"\n",
    "\n",
    "ZepText = Annotated[\n",
    "    str | None,\n",
    "    Field(default=None, zeptype=\"ZepText\"),\n",
    "    WithJsonSchema(ZepBaseText.model_json_schema(), mode='serialization'),\n",
    "]"
   ],
   "id": "895be0ef76907cfd",
   "outputs": [],
   "execution_count": 4
  },
  {
   "metadata": {
    "ExecuteTime": {
     "end_time": "2024-05-31T03:48:29.323195Z",
     "start_time": "2024-05-31T03:48:29.309690Z"
    }
   },
   "cell_type": "code",
   "source": [
    "import os\n",
    "\n",
    "\n",
    "API_KEY = os.environ.get(\"ZEP_API_KEY\")\n",
    "print(API_KEY)\n",
    "\n",
    "client = AsyncZep(\n",
    "        api_key=\"z_1dWlkIjoiN2E0NjcxZmMtZDM5ZS00OTQ1LWE4YWMtODFjNTM5NTU5N2M1In0.um46UqJMM7XwfaG2BhwpLGVVrA4fxSZAzDbh_5cX3k9ickzBFZsp9NQFMLr8BN0tPpD2-7tUAv60eJsA907rEg\",\n",
    "        base_url=\"http://localhost:8000/api/v2\"\n",
    "    )"
   ],
   "id": "a3ff168f81715f3e",
   "outputs": [
    {
     "name": "stdout",
     "output_type": "stream",
     "text": [
      "z_1dWlkIjoiN2E0NjcxZmMtZDM5ZS00OTQ1LWE4YWMtODFjNTM5NTU5N2M1In0.um46UqJMM7XwfaG2BhwpLGVVrA4fxSZAzDbh_5cX3k9ickzBFZsp9NQFMLr8BN0tPpD2-7tUAv60eJsA907rEg\n"
     ]
    }
   ],
   "execution_count": 5
  },
  {
   "metadata": {
    "ExecuteTime": {
     "end_time": "2024-05-31T03:50:57.347011Z",
     "start_time": "2024-05-31T03:50:57.342265Z"
    }
   },
   "cell_type": "code",
   "source": [
    "class GuitarInfoModel(ZepExtractorModel):\n",
    "    guitar_name: ZepText = Field(description=\"Extract the make and model of the guitar\")\n",
    "    guitar_year: ZepFloat = Field(description=\"Extract the year the guitar was made\")\n",
    "\n",
    "g = GuitarInfoModel(_client=client, session_id=\"session_id\")\n"
   ],
   "id": "bd89f117a577c594",
   "outputs": [],
   "execution_count": 11
  },
  {
   "metadata": {
    "ExecuteTime": {
     "end_time": "2024-05-31T03:51:04.689947Z",
     "start_time": "2024-05-31T03:51:04.665729Z"
    }
   },
   "cell_type": "code",
   "source": "g.extract()",
   "id": "d3de6145e0ab63a1",
   "outputs": [
    {
     "name": "stdout",
     "output_type": "stream",
     "text": [
      "hiiii\n"
     ]
    },
    {
     "ename": "AttributeError",
     "evalue": "'GuitarInfoModel' object has no attribute '_client'",
     "output_type": "error",
     "traceback": [
      "\u001B[0;31m---------------------------------------------------------------------------\u001B[0m",
      "\u001B[0;31mKeyError\u001B[0m                                  Traceback (most recent call last)",
      "File \u001B[0;32m~/code/zepai/zep-python/.venv/lib/python3.10/site-packages/pydantic/main.py:790\u001B[0m, in \u001B[0;36mBaseModel.__getattr__\u001B[0;34m(self, item)\u001B[0m\n\u001B[1;32m    788\u001B[0m \u001B[38;5;28;01mtry\u001B[39;00m:\n\u001B[1;32m    789\u001B[0m     \u001B[38;5;66;03m# Note: self.__pydantic_private__ cannot be None if self.__private_attributes__ has items\u001B[39;00m\n\u001B[0;32m--> 790\u001B[0m     \u001B[38;5;28;01mreturn\u001B[39;00m \u001B[38;5;28;43mself\u001B[39;49m\u001B[38;5;241;43m.\u001B[39;49m\u001B[43m__pydantic_private__\u001B[49m\u001B[43m[\u001B[49m\u001B[43mitem\u001B[49m\u001B[43m]\u001B[49m  \u001B[38;5;66;03m# type: ignore\u001B[39;00m\n\u001B[1;32m    791\u001B[0m \u001B[38;5;28;01mexcept\u001B[39;00m \u001B[38;5;167;01mKeyError\u001B[39;00m \u001B[38;5;28;01mas\u001B[39;00m exc:\n",
      "\u001B[0;31mKeyError\u001B[0m: '_client'",
      "\nThe above exception was the direct cause of the following exception:\n",
      "\u001B[0;31mAttributeError\u001B[0m                            Traceback (most recent call last)",
      "Cell \u001B[0;32mIn[13], line 1\u001B[0m\n\u001B[0;32m----> 1\u001B[0m \u001B[43mg\u001B[49m\u001B[38;5;241;43m.\u001B[39;49m\u001B[43mextract\u001B[49m\u001B[43m(\u001B[49m\u001B[43m)\u001B[49m\n",
      "Cell \u001B[0;32mIn[2], line 8\u001B[0m, in \u001B[0;36mZepExtractorModel.extract\u001B[0;34m(self)\u001B[0m\n\u001B[1;32m      6\u001B[0m \u001B[38;5;28;01mdef\u001B[39;00m \u001B[38;5;21mextract\u001B[39m(\u001B[38;5;28mself\u001B[39m):\n\u001B[1;32m      7\u001B[0m     \u001B[38;5;28mprint\u001B[39m(\u001B[38;5;124m\"\u001B[39m\u001B[38;5;124mhiiii\u001B[39m\u001B[38;5;124m\"\u001B[39m)\n\u001B[0;32m----> 8\u001B[0m     \u001B[38;5;28;43mself\u001B[39;49m\u001B[38;5;241;43m.\u001B[39;49m\u001B[43m_client\u001B[49m\u001B[38;5;241m.\u001B[39mmemory\u001B[38;5;241m.\u001B[39mextract_session_data(\u001B[38;5;28mself\u001B[39m\u001B[38;5;241m.\u001B[39msession_id, last_n_messages\u001B[38;5;241m=\u001B[39m\u001B[38;5;28mself\u001B[39m\u001B[38;5;241m.\u001B[39mlast_n_messages)\n",
      "File \u001B[0;32m~/code/zepai/zep-python/.venv/lib/python3.10/site-packages/pydantic/main.py:792\u001B[0m, in \u001B[0;36mBaseModel.__getattr__\u001B[0;34m(self, item)\u001B[0m\n\u001B[1;32m    790\u001B[0m         \u001B[38;5;28;01mreturn\u001B[39;00m \u001B[38;5;28mself\u001B[39m\u001B[38;5;241m.\u001B[39m__pydantic_private__[item]  \u001B[38;5;66;03m# type: ignore\u001B[39;00m\n\u001B[1;32m    791\u001B[0m     \u001B[38;5;28;01mexcept\u001B[39;00m \u001B[38;5;167;01mKeyError\u001B[39;00m \u001B[38;5;28;01mas\u001B[39;00m exc:\n\u001B[0;32m--> 792\u001B[0m         \u001B[38;5;28;01mraise\u001B[39;00m \u001B[38;5;167;01mAttributeError\u001B[39;00m(\u001B[38;5;124mf\u001B[39m\u001B[38;5;124m'\u001B[39m\u001B[38;5;132;01m{\u001B[39;00m\u001B[38;5;28mtype\u001B[39m(\u001B[38;5;28mself\u001B[39m)\u001B[38;5;241m.\u001B[39m\u001B[38;5;18m__name__\u001B[39m\u001B[38;5;132;01m!r}\u001B[39;00m\u001B[38;5;124m object has no attribute \u001B[39m\u001B[38;5;132;01m{\u001B[39;00mitem\u001B[38;5;132;01m!r}\u001B[39;00m\u001B[38;5;124m'\u001B[39m) \u001B[38;5;28;01mfrom\u001B[39;00m \u001B[38;5;21;01mexc\u001B[39;00m\n\u001B[1;32m    793\u001B[0m \u001B[38;5;28;01melse\u001B[39;00m:\n\u001B[1;32m    794\u001B[0m     \u001B[38;5;66;03m# `__pydantic_extra__` can fail to be set if the model is not yet fully initialized.\u001B[39;00m\n\u001B[1;32m    795\u001B[0m     \u001B[38;5;66;03m# See `BaseModel.__repr_args__` for more details\u001B[39;00m\n\u001B[1;32m    796\u001B[0m     \u001B[38;5;28;01mtry\u001B[39;00m:\n",
      "\u001B[0;31mAttributeError\u001B[0m: 'GuitarInfoModel' object has no attribute '_client'"
     ]
    }
   ],
   "execution_count": 13
  },
  {
   "metadata": {
    "ExecuteTime": {
     "end_time": "2024-05-31T03:51:35.622245Z",
     "start_time": "2024-05-31T03:51:35.582008Z"
    }
   },
   "cell_type": "code",
   "source": [
    "class ZepExtractorModel(BaseModel):\n",
    "    _client: AsyncZep\n",
    "    session_id: str\n",
    "    last_n_messages: Optional[int] = None\n",
    "\n",
    "    def extract(self):\n",
    "        print(\"hiiii\")\n",
    "        self._client.memory.extract_session_data(self.session_id, last_n_messages=self.last_n_messages)\n",
    "\n",
    "import os\n",
    "\n",
    "API_KEY = os.environ.get(\"ZEP_API_KEY\")\n",
    "print(API_KEY)\n",
    "\n",
    "client = AsyncZep(\n",
    "        api_key=\"z_1dWlkIjoiN2E0NjcxZmMtZDM5ZS00OTQ1LWE4YWMtODFjNTM5NTU5N2M1In0.um46UqJMM7XwfaG2BhwpLGVVrA4fxSZAzDbh_5cX3k9ickzBFZsp9NQFMLr8BN0tPpD2-7tUAv60eJsA907rEg\",\n",
    "        base_url=\"http://localhost:8000/api/v2\"\n",
    "    )\n",
    "\n",
    "class GuitarInfoModel(ZepExtractorModel):\n",
    "    guitar_name: ZepText = Field(description=\"Extract the make and model of the guitar\")\n",
    "    guitar_year: ZepFloat = Field(description=\"Extract the year the guitar was made\")\n",
    "\n",
    "g = GuitarInfoModel(_client=client, session_id=\"session_id\", balls=\"lskdjf\")\n",
    "\n",
    "g.extract()"
   ],
   "id": "eb9ee09f053c716e",
   "outputs": [
    {
     "name": "stdout",
     "output_type": "stream",
     "text": [
      "z_1dWlkIjoiN2E0NjcxZmMtZDM5ZS00OTQ1LWE4YWMtODFjNTM5NTU5N2M1In0.um46UqJMM7XwfaG2BhwpLGVVrA4fxSZAzDbh_5cX3k9ickzBFZsp9NQFMLr8BN0tPpD2-7tUAv60eJsA907rEg\n",
      "hiiii\n"
     ]
    },
    {
     "ename": "AttributeError",
     "evalue": "'GuitarInfoModel' object has no attribute '_client'",
     "output_type": "error",
     "traceback": [
      "\u001B[0;31m---------------------------------------------------------------------------\u001B[0m",
      "\u001B[0;31mKeyError\u001B[0m                                  Traceback (most recent call last)",
      "File \u001B[0;32m~/code/zepai/zep-python/.venv/lib/python3.10/site-packages/pydantic/main.py:790\u001B[0m, in \u001B[0;36mBaseModel.__getattr__\u001B[0;34m(self, item)\u001B[0m\n\u001B[1;32m    788\u001B[0m \u001B[38;5;28;01mtry\u001B[39;00m:\n\u001B[1;32m    789\u001B[0m     \u001B[38;5;66;03m# Note: self.__pydantic_private__ cannot be None if self.__private_attributes__ has items\u001B[39;00m\n\u001B[0;32m--> 790\u001B[0m     \u001B[38;5;28;01mreturn\u001B[39;00m \u001B[38;5;28;43mself\u001B[39;49m\u001B[38;5;241;43m.\u001B[39;49m\u001B[43m__pydantic_private__\u001B[49m\u001B[43m[\u001B[49m\u001B[43mitem\u001B[49m\u001B[43m]\u001B[49m  \u001B[38;5;66;03m# type: ignore\u001B[39;00m\n\u001B[1;32m    791\u001B[0m \u001B[38;5;28;01mexcept\u001B[39;00m \u001B[38;5;167;01mKeyError\u001B[39;00m \u001B[38;5;28;01mas\u001B[39;00m exc:\n",
      "\u001B[0;31mKeyError\u001B[0m: '_client'",
      "\nThe above exception was the direct cause of the following exception:\n",
      "\u001B[0;31mAttributeError\u001B[0m                            Traceback (most recent call last)",
      "Cell \u001B[0;32mIn[14], line 26\u001B[0m\n\u001B[1;32m     22\u001B[0m     guitar_year: ZepFloat \u001B[38;5;241m=\u001B[39m Field(description\u001B[38;5;241m=\u001B[39m\u001B[38;5;124m\"\u001B[39m\u001B[38;5;124mExtract the year the guitar was made\u001B[39m\u001B[38;5;124m\"\u001B[39m)\n\u001B[1;32m     24\u001B[0m g \u001B[38;5;241m=\u001B[39m GuitarInfoModel(_client\u001B[38;5;241m=\u001B[39mclient, session_id\u001B[38;5;241m=\u001B[39m\u001B[38;5;124m\"\u001B[39m\u001B[38;5;124msession_id\u001B[39m\u001B[38;5;124m\"\u001B[39m, balls\u001B[38;5;241m=\u001B[39m\u001B[38;5;124m\"\u001B[39m\u001B[38;5;124mlskdjf\u001B[39m\u001B[38;5;124m\"\u001B[39m)\n\u001B[0;32m---> 26\u001B[0m \u001B[43mg\u001B[49m\u001B[38;5;241;43m.\u001B[39;49m\u001B[43mextract\u001B[49m\u001B[43m(\u001B[49m\u001B[43m)\u001B[49m\n",
      "Cell \u001B[0;32mIn[14], line 8\u001B[0m, in \u001B[0;36mZepExtractorModel.extract\u001B[0;34m(self)\u001B[0m\n\u001B[1;32m      6\u001B[0m \u001B[38;5;28;01mdef\u001B[39;00m \u001B[38;5;21mextract\u001B[39m(\u001B[38;5;28mself\u001B[39m):\n\u001B[1;32m      7\u001B[0m     \u001B[38;5;28mprint\u001B[39m(\u001B[38;5;124m\"\u001B[39m\u001B[38;5;124mhiiii\u001B[39m\u001B[38;5;124m\"\u001B[39m)\n\u001B[0;32m----> 8\u001B[0m     \u001B[38;5;28;43mself\u001B[39;49m\u001B[38;5;241;43m.\u001B[39;49m\u001B[43m_client\u001B[49m\u001B[38;5;241m.\u001B[39mmemory\u001B[38;5;241m.\u001B[39mextract_session_data(\u001B[38;5;28mself\u001B[39m\u001B[38;5;241m.\u001B[39msession_id, last_n_messages\u001B[38;5;241m=\u001B[39m\u001B[38;5;28mself\u001B[39m\u001B[38;5;241m.\u001B[39mlast_n_messages)\n",
      "File \u001B[0;32m~/code/zepai/zep-python/.venv/lib/python3.10/site-packages/pydantic/main.py:792\u001B[0m, in \u001B[0;36mBaseModel.__getattr__\u001B[0;34m(self, item)\u001B[0m\n\u001B[1;32m    790\u001B[0m         \u001B[38;5;28;01mreturn\u001B[39;00m \u001B[38;5;28mself\u001B[39m\u001B[38;5;241m.\u001B[39m__pydantic_private__[item]  \u001B[38;5;66;03m# type: ignore\u001B[39;00m\n\u001B[1;32m    791\u001B[0m     \u001B[38;5;28;01mexcept\u001B[39;00m \u001B[38;5;167;01mKeyError\u001B[39;00m \u001B[38;5;28;01mas\u001B[39;00m exc:\n\u001B[0;32m--> 792\u001B[0m         \u001B[38;5;28;01mraise\u001B[39;00m \u001B[38;5;167;01mAttributeError\u001B[39;00m(\u001B[38;5;124mf\u001B[39m\u001B[38;5;124m'\u001B[39m\u001B[38;5;132;01m{\u001B[39;00m\u001B[38;5;28mtype\u001B[39m(\u001B[38;5;28mself\u001B[39m)\u001B[38;5;241m.\u001B[39m\u001B[38;5;18m__name__\u001B[39m\u001B[38;5;132;01m!r}\u001B[39;00m\u001B[38;5;124m object has no attribute \u001B[39m\u001B[38;5;132;01m{\u001B[39;00mitem\u001B[38;5;132;01m!r}\u001B[39;00m\u001B[38;5;124m'\u001B[39m) \u001B[38;5;28;01mfrom\u001B[39;00m \u001B[38;5;21;01mexc\u001B[39;00m\n\u001B[1;32m    793\u001B[0m \u001B[38;5;28;01melse\u001B[39;00m:\n\u001B[1;32m    794\u001B[0m     \u001B[38;5;66;03m# `__pydantic_extra__` can fail to be set if the model is not yet fully initialized.\u001B[39;00m\n\u001B[1;32m    795\u001B[0m     \u001B[38;5;66;03m# See `BaseModel.__repr_args__` for more details\u001B[39;00m\n\u001B[1;32m    796\u001B[0m     \u001B[38;5;28;01mtry\u001B[39;00m:\n",
      "\u001B[0;31mAttributeError\u001B[0m: 'GuitarInfoModel' object has no attribute '_client'"
     ]
    }
   ],
   "execution_count": 14
  },
  {
   "metadata": {},
   "cell_type": "code",
   "outputs": [],
   "execution_count": null,
   "source": "",
   "id": "2f1f71061802404b"
  }
 ],
 "metadata": {
  "kernelspec": {
   "display_name": "Python 3",
   "language": "python",
   "name": "python3"
  },
  "language_info": {
   "codemirror_mode": {
    "name": "ipython",
    "version": 2
   },
   "file_extension": ".py",
   "mimetype": "text/x-python",
   "name": "python",
   "nbconvert_exporter": "python",
   "pygments_lexer": "ipython2",
   "version": "2.7.6"
  }
 },
 "nbformat": 4,
 "nbformat_minor": 5
}
