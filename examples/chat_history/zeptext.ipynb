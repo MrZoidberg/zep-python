{
 "cells": [
  {
   "cell_type": "code",
   "id": "initial_id",
   "metadata": {
    "collapsed": true,
    "ExecuteTime": {
     "end_time": "2024-05-29T22:40:33.705418Z",
     "start_time": "2024-05-29T22:40:33.702510Z"
    }
   },
   "source": [
    "from enum import Enum\n",
    "from pydantic import BaseModel, Field, AfterValidator, WithJsonSchema, PlainSerializer\n",
    "from typing_extensions import Annotated "
   ],
   "outputs": [],
   "execution_count": 20
  },
  {
   "metadata": {
    "ExecuteTime": {
     "end_time": "2024-05-29T22:40:33.711719Z",
     "start_time": "2024-05-29T22:40:33.706770Z"
    }
   },
   "cell_type": "code",
   "source": [
    "import typing\n",
    "from zep_cloud import ZepDataType\n",
    "\n",
    "\n",
    "class ZepBaseText(BaseModel):\n",
    "    description: typing.Optional[str] = None\n",
    "    type: ZepDataType = \"ZepText\"\n",
    "\n",
    "ZepText = Annotated[\n",
    "    str | None,\n",
    "    Field(default=None, zeptype=\"ZepText\"),\n",
    "    WithJsonSchema(ZepBaseText.model_json_schema(), mode='serialization'),\n",
    "]"
   ],
   "id": "669bdf0708dd11c5",
   "outputs": [],
   "execution_count": 21
  },
  {
   "metadata": {
    "ExecuteTime": {
     "end_time": "2024-05-29T22:40:33.716297Z",
     "start_time": "2024-05-29T22:40:33.713037Z"
    }
   },
   "cell_type": "code",
   "source": [
    "class TestModel(BaseModel):\n",
    "    a: ZepText = Field(title=\"A\", description=\"This is a description\")\n",
    "    b: ZepText = Field(title=\"B\", description=\"This is a descriptionB\", )"
   ],
   "id": "99585596ae16c2b8",
   "outputs": [],
   "execution_count": 22
  },
  {
   "metadata": {
    "ExecuteTime": {
     "end_time": "2024-05-29T22:40:33.718999Z",
     "start_time": "2024-05-29T22:40:33.717152Z"
    }
   },
   "cell_type": "code",
   "source": "t = TestModel(a=\"lksjfd\", b=\"Hello\")",
   "id": "d4deadee9fb5f49b",
   "outputs": [],
   "execution_count": 23
  },
  {
   "metadata": {
    "ExecuteTime": {
     "end_time": "2024-05-29T22:40:33.722487Z",
     "start_time": "2024-05-29T22:40:33.720312Z"
    }
   },
   "cell_type": "code",
   "source": "t.model_dump_json()\n",
   "id": "1b3f62df581bf220",
   "outputs": [
    {
     "data": {
      "text/plain": [
       "'{\"a\":\"lksjfd\",\"b\":\"Hello\"}'"
      ]
     },
     "execution_count": 24,
     "metadata": {},
     "output_type": "execute_result"
    }
   ],
   "execution_count": 24
  },
  {
   "metadata": {
    "ExecuteTime": {
     "end_time": "2024-05-29T22:40:33.726059Z",
     "start_time": "2024-05-29T22:40:33.723163Z"
    }
   },
   "cell_type": "code",
   "source": "t.schema_json()",
   "id": "9ef625b996c1eeb",
   "outputs": [
    {
     "data": {
      "text/plain": [
       "'{\"properties\": {\"a\": {\"anyOf\": [{\"type\": \"string\"}, {\"type\": \"null\"}], \"default\": null, \"description\": \"This is a description\", \"title\": \"A\", \"zeptype\": \"ZepText\"}, \"b\": {\"anyOf\": [{\"type\": \"string\"}, {\"type\": \"null\"}], \"default\": null, \"description\": \"This is a descriptionB\", \"title\": \"B\", \"zeptype\": \"ZepText\"}}, \"title\": \"TestModel\", \"type\": \"object\"}'"
      ]
     },
     "execution_count": 25,
     "metadata": {},
     "output_type": "execute_result"
    }
   ],
   "execution_count": 25
  }
 ],
 "metadata": {
  "kernelspec": {
   "display_name": "Python 3",
   "language": "python",
   "name": "python3"
  },
  "language_info": {
   "codemirror_mode": {
    "name": "ipython",
    "version": 2
   },
   "file_extension": ".py",
   "mimetype": "text/x-python",
   "name": "python",
   "nbconvert_exporter": "python",
   "pygments_lexer": "ipython2",
   "version": "2.7.6"
  }
 },
 "nbformat": 4,
 "nbformat_minor": 5
}
