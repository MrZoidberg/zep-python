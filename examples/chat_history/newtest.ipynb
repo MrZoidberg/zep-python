{
 "cells": [
  {
   "cell_type": "code",
   "id": "initial_id",
   "metadata": {
    "collapsed": true,
    "ExecuteTime": {
     "end_time": "2024-05-29T15:03:19.115616Z",
     "start_time": "2024-05-29T15:03:19.105494Z"
    }
   },
   "source": [
    "from enum import Enum\n",
    "from pydantic import BaseModel, Field, AfterValidator, WithJsonSchema, PlainSerializer\n",
    "from typing_extensions import Annotated\n",
    "\n",
    "\n",
    "class ZepDataType(Enum):\n",
    "    # Define the enum values here, assuming placeholder values\n",
    "    TYPE1 = \"type1\"\n",
    "    TYPE2 = \"type2\"\n",
    "    \n",
    "class ZepFloat(BaseModel):\n",
    "    description: str\n",
    "    name: str\n",
    "    type: float\n",
    "    regex: str"
   ],
   "outputs": [],
   "execution_count": 2
  },
  {
   "metadata": {
    "ExecuteTime": {
     "end_time": "2024-05-29T15:03:21.332354Z",
     "start_time": "2024-05-29T15:03:21.326991Z"
    }
   },
   "cell_type": "code",
   "source": [
    "TruncatedFloat = Annotated[\n",
    "    float,\n",
    "    AfterValidator(lambda x: round(x, 1)),\n",
    "    PlainSerializer(lambda x: f'{x:.1e}', return_type=str),\n",
    "    WithJsonSchema(ZepFloat.model_json_schema(), mode='serialization'),\n",
    "]"
   ],
   "id": "ca75db1b92fce4d3",
   "outputs": [],
   "execution_count": 3
  },
  {
   "metadata": {
    "ExecuteTime": {
     "end_time": "2024-05-29T15:03:30.727476Z",
     "start_time": "2024-05-29T15:03:30.722253Z"
    }
   },
   "cell_type": "code",
   "source": [
    "class TestModel(BaseModel):\n",
    "    a: TruncatedFloat = Field(..., title=\"A\", description=\"This is a description\")\n",
    "    b: ZepFloat = Field(..., title=\"B\", description=\"This is a descriptionB\")"
   ],
   "id": "19fb624b1c7a0680",
   "outputs": [],
   "execution_count": 4
  },
  {
   "metadata": {
    "ExecuteTime": {
     "end_time": "2024-05-29T15:03:57.964753Z",
     "start_time": "2024-05-29T15:03:57.962061Z"
    }
   },
   "cell_type": "code",
   "source": [
    "for field in TestModel.model_fields.items():\n",
    "    print(field[1].annotation)"
   ],
   "id": "9c2c5c9e357288cf",
   "outputs": [
    {
     "name": "stdout",
     "output_type": "stream",
     "text": [
      "<class 'float'>\n",
      "<class '__main__.ZepFloat'>\n"
     ]
    }
   ],
   "execution_count": 5
  },
  {
   "metadata": {
    "ExecuteTime": {
     "end_time": "2024-05-29T19:00:01.699254Z",
     "start_time": "2024-05-29T19:00:01.689167Z"
    }
   },
   "cell_type": "code",
   "source": [
    "import typing\n",
    "from typing import Optional\n",
    "\n",
    "\n",
    "class ZepBaseFloat(BaseModel):\n",
    "    description: typing.Optional[str] = None\n",
    "    type: ZepDataType = \"ZepFloat\"\n",
    "\n",
    "\n",
    "ZepFloat = Annotated[\n",
    "    float,\n",
    "    # AfterValidator(lambda x: round(x, 1)),\n",
    "    PlainSerializer(lambda x: f'{x:.1e}', return_type=str),\n",
    "    WithJsonSchema(ZepBaseFloat.model_json_schema(), mode='serialization'),\n",
    "]\n",
    "\n",
    "class ShoeInfoModel(BaseModel):\n",
    "    shoe_size: ZepFloat = Field(default=None, description=\"This is a field from the base model\")\n",
    "    \n",
    "for field in ShoeInfoModel.model_fields.items():\n",
    "    print(field[1].annotation)\n",
    "    \n",
    "t = ShoeInfoModel(shoe_size=1.234)\n",
    "t"
   ],
   "id": "cb2df0881ed87d34",
   "outputs": [
    {
     "name": "stdout",
     "output_type": "stream",
     "text": [
      "<class 'float'>\n"
     ]
    },
    {
     "data": {
      "text/plain": [
       "ShoeInfoModel(shoe_size=1.234)"
      ]
     },
     "execution_count": 22,
     "metadata": {},
     "output_type": "execute_result"
    }
   ],
   "execution_count": 22
  },
  {
   "metadata": {
    "ExecuteTime": {
     "end_time": "2024-05-29T19:00:09.264185Z",
     "start_time": "2024-05-29T19:00:09.260969Z"
    }
   },
   "cell_type": "code",
   "source": [
    "t.model_dump_json()\n",
    "t"
   ],
   "id": "9b3f2eabef849449",
   "outputs": [
    {
     "data": {
      "text/plain": [
       "'{\"shoe_size\":\"1.2e+00\"}'"
      ]
     },
     "execution_count": 23,
     "metadata": {},
     "output_type": "execute_result"
    }
   ],
   "execution_count": 23
  },
  {
   "metadata": {},
   "cell_type": "code",
   "outputs": [],
   "execution_count": null,
   "source": "",
   "id": "c89c4b986fe64fec"
  }
 ],
 "metadata": {
  "kernelspec": {
   "display_name": "Python 3",
   "language": "python",
   "name": "python3"
  },
  "language_info": {
   "codemirror_mode": {
    "name": "ipython",
    "version": 2
   },
   "file_extension": ".py",
   "mimetype": "text/x-python",
   "name": "python",
   "nbconvert_exporter": "python",
   "pygments_lexer": "ipython2",
   "version": "2.7.6"
  }
 },
 "nbformat": 4,
 "nbformat_minor": 5
}
