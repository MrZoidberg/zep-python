{
 "cells": [
  {
   "cell_type": "code",
   "id": "initial_id",
   "metadata": {
    "collapsed": true,
    "ExecuteTime": {
     "end_time": "2024-05-29T23:26:20.362411Z",
     "start_time": "2024-05-29T23:26:20.358166Z"
    }
   },
   "source": [
    "from enum import Enum\n",
    "from pydantic import BaseModel, Field, AfterValidator, WithJsonSchema, PlainSerializer\n",
    "from typing_extensions import Annotated "
   ],
   "outputs": [],
   "execution_count": 8
  },
  {
   "metadata": {
    "ExecuteTime": {
     "end_time": "2024-05-29T23:26:20.369430Z",
     "start_time": "2024-05-29T23:26:20.363885Z"
    }
   },
   "cell_type": "code",
   "source": [
    "import typing\n",
    "from zep_cloud import ZepDataType\n",
    "\n",
    "\n",
    "class ZepBaseFloat(BaseModel):\n",
    "    description: typing.Optional[str] = None\n",
    "    type: ZepDataType = \"ZepFloat\"\n",
    "\n",
    "ZepFloat = Annotated[\n",
    "    float | None,\n",
    "    Field(default=None, zeptype=\"ZepFloat\"),\n",
    "    WithJsonSchema(ZepBaseFloat.model_json_schema(), mode='serialization'),\n",
    "]"
   ],
   "id": "70b5038952a82da9",
   "outputs": [],
   "execution_count": 9
  },
  {
   "metadata": {
    "ExecuteTime": {
     "end_time": "2024-05-29T23:26:20.373842Z",
     "start_time": "2024-05-29T23:26:20.370252Z"
    }
   },
   "cell_type": "code",
   "source": [
    "class ZepBaseText(BaseModel):\n",
    "    description: typing.Optional[str] = None\n",
    "    type: ZepDataType = \"ZepText\"\n",
    "\n",
    "ZepText = Annotated[\n",
    "    str | None,\n",
    "    Field(default=None, zeptype=\"ZepText\"),\n",
    "    WithJsonSchema(ZepBaseText.model_json_schema(), mode='serialization'),\n",
    "]"
   ],
   "id": "bd9e8bdde533f1a3",
   "outputs": [],
   "execution_count": 10
  },
  {
   "metadata": {
    "ExecuteTime": {
     "end_time": "2024-05-29T23:45:43.595903Z",
     "start_time": "2024-05-29T23:45:43.535717Z"
    }
   },
   "cell_type": "code",
   "source": [
    "class ZepExtractorModel(BaseModel):\n",
    "    client = None\n",
    "    session_id = None\n",
    "    lastNMessages = None\n",
    "    def __init__(self, client=None, session_id=None, lastNMessages=None):\n",
    "        self.client = client\n",
    "        self.session_id = session_id\n",
    "        self.lastNMessages = lastNMessages\n",
    "    \n",
    "        super().__init__()\n",
    "\n",
    "    @classmethod\n",
    "    def create(cls, client, session_id, lastNMessages):\n",
    "        return cls(client=client, session_id=session_id, lastNMessages=lastNMessages)"
   ],
   "id": "5d2a47c15b94e56",
   "outputs": [
    {
     "ename": "PydanticUserError",
     "evalue": "A non-annotated attribute was detected: `client = None`. All model fields require a type annotation; if `client` is not meant to be a field, you may be able to resolve this error by annotating it as a `ClassVar` or updating `model_config['ignored_types']`.\n\nFor further information visit https://errors.pydantic.dev/2.7/u/model-field-missing-annotation",
     "output_type": "error",
     "traceback": [
      "\u001B[0;31m---------------------------------------------------------------------------\u001B[0m",
      "\u001B[0;31mPydanticUserError\u001B[0m                         Traceback (most recent call last)",
      "Cell \u001B[0;32mIn[17], line 1\u001B[0m\n\u001B[0;32m----> 1\u001B[0m \u001B[38;5;28;01mclass\u001B[39;00m \u001B[38;5;21;01mZepExtractorModel\u001B[39;00m(BaseModel):\n\u001B[1;32m      2\u001B[0m     client \u001B[38;5;241m=\u001B[39m \u001B[38;5;28;01mNone\u001B[39;00m\n\u001B[1;32m      3\u001B[0m     session_id \u001B[38;5;241m=\u001B[39m \u001B[38;5;28;01mNone\u001B[39;00m\n",
      "File \u001B[0;32m~/code/zepai/zep-python/.venv/lib/python3.10/site-packages/pydantic/_internal/_model_construction.py:93\u001B[0m, in \u001B[0;36mModelMetaclass.__new__\u001B[0;34m(mcs, cls_name, bases, namespace, __pydantic_generic_metadata__, __pydantic_reset_parent_namespace__, _create_model_module, **kwargs)\u001B[0m\n\u001B[1;32m     91\u001B[0m config_wrapper \u001B[38;5;241m=\u001B[39m ConfigWrapper\u001B[38;5;241m.\u001B[39mfor_model(bases, namespace, kwargs)\n\u001B[1;32m     92\u001B[0m namespace[\u001B[38;5;124m'\u001B[39m\u001B[38;5;124mmodel_config\u001B[39m\u001B[38;5;124m'\u001B[39m] \u001B[38;5;241m=\u001B[39m config_wrapper\u001B[38;5;241m.\u001B[39mconfig_dict\n\u001B[0;32m---> 93\u001B[0m private_attributes \u001B[38;5;241m=\u001B[39m \u001B[43minspect_namespace\u001B[49m\u001B[43m(\u001B[49m\n\u001B[1;32m     94\u001B[0m \u001B[43m    \u001B[49m\u001B[43mnamespace\u001B[49m\u001B[43m,\u001B[49m\u001B[43m \u001B[49m\u001B[43mconfig_wrapper\u001B[49m\u001B[38;5;241;43m.\u001B[39;49m\u001B[43mignored_types\u001B[49m\u001B[43m,\u001B[49m\u001B[43m \u001B[49m\u001B[43mclass_vars\u001B[49m\u001B[43m,\u001B[49m\u001B[43m \u001B[49m\u001B[43mbase_field_names\u001B[49m\n\u001B[1;32m     95\u001B[0m \u001B[43m\u001B[49m\u001B[43m)\u001B[49m\n\u001B[1;32m     96\u001B[0m \u001B[38;5;28;01mif\u001B[39;00m private_attributes \u001B[38;5;129;01mor\u001B[39;00m base_private_attributes:\n\u001B[1;32m     97\u001B[0m     original_model_post_init \u001B[38;5;241m=\u001B[39m get_model_post_init(namespace, bases)\n",
      "File \u001B[0;32m~/code/zepai/zep-python/.venv/lib/python3.10/site-packages/pydantic/_internal/_model_construction.py:406\u001B[0m, in \u001B[0;36minspect_namespace\u001B[0;34m(namespace, ignored_types, base_class_vars, base_class_fields)\u001B[0m\n\u001B[1;32m    402\u001B[0m             \u001B[38;5;28;01mraise\u001B[39;00m PydanticUserError(\n\u001B[1;32m    403\u001B[0m                 \u001B[38;5;124mf\u001B[39m\u001B[38;5;124m'\u001B[39m\u001B[38;5;124mField \u001B[39m\u001B[38;5;132;01m{\u001B[39;00mvar_name\u001B[38;5;132;01m!r}\u001B[39;00m\u001B[38;5;124m requires a type annotation\u001B[39m\u001B[38;5;124m'\u001B[39m, code\u001B[38;5;241m=\u001B[39m\u001B[38;5;124m'\u001B[39m\u001B[38;5;124mmodel-field-missing-annotation\u001B[39m\u001B[38;5;124m'\u001B[39m\n\u001B[1;32m    404\u001B[0m             )\n\u001B[1;32m    405\u001B[0m         \u001B[38;5;28;01melse\u001B[39;00m:\n\u001B[0;32m--> 406\u001B[0m             \u001B[38;5;28;01mraise\u001B[39;00m PydanticUserError(\n\u001B[1;32m    407\u001B[0m                 \u001B[38;5;124mf\u001B[39m\u001B[38;5;124m'\u001B[39m\u001B[38;5;124mA non-annotated attribute was detected: `\u001B[39m\u001B[38;5;132;01m{\u001B[39;00mvar_name\u001B[38;5;132;01m}\u001B[39;00m\u001B[38;5;124m = \u001B[39m\u001B[38;5;132;01m{\u001B[39;00mvalue\u001B[38;5;132;01m!r}\u001B[39;00m\u001B[38;5;124m`. All model fields require a \u001B[39m\u001B[38;5;124m'\u001B[39m\n\u001B[1;32m    408\u001B[0m                 \u001B[38;5;124mf\u001B[39m\u001B[38;5;124m'\u001B[39m\u001B[38;5;124mtype annotation; if `\u001B[39m\u001B[38;5;132;01m{\u001B[39;00mvar_name\u001B[38;5;132;01m}\u001B[39;00m\u001B[38;5;124m` is not meant to be a field, you may be able to resolve this \u001B[39m\u001B[38;5;124m'\u001B[39m\n\u001B[1;32m    409\u001B[0m                 \u001B[38;5;124mf\u001B[39m\u001B[38;5;124m\"\u001B[39m\u001B[38;5;124merror by annotating it as a `ClassVar` or updating `model_config[\u001B[39m\u001B[38;5;124m'\u001B[39m\u001B[38;5;124mignored_types\u001B[39m\u001B[38;5;124m'\u001B[39m\u001B[38;5;124m]`.\u001B[39m\u001B[38;5;124m\"\u001B[39m,\n\u001B[1;32m    410\u001B[0m                 code\u001B[38;5;241m=\u001B[39m\u001B[38;5;124m'\u001B[39m\u001B[38;5;124mmodel-field-missing-annotation\u001B[39m\u001B[38;5;124m'\u001B[39m,\n\u001B[1;32m    411\u001B[0m             )\n\u001B[1;32m    413\u001B[0m \u001B[38;5;28;01mfor\u001B[39;00m ann_name, ann_type \u001B[38;5;129;01min\u001B[39;00m raw_annotations\u001B[38;5;241m.\u001B[39mitems():\n\u001B[1;32m    414\u001B[0m     \u001B[38;5;28;01mif\u001B[39;00m (\n\u001B[1;32m    415\u001B[0m         is_valid_privateattr_name(ann_name)\n\u001B[1;32m    416\u001B[0m         \u001B[38;5;129;01mand\u001B[39;00m ann_name \u001B[38;5;129;01mnot\u001B[39;00m \u001B[38;5;129;01min\u001B[39;00m private_attributes\n\u001B[0;32m   (...)\u001B[0m\n\u001B[1;32m    420\u001B[0m         \u001B[38;5;129;01mand\u001B[39;00m \u001B[38;5;28mgetattr\u001B[39m(ann_type, \u001B[38;5;124m'\u001B[39m\u001B[38;5;124m__module__\u001B[39m\u001B[38;5;124m'\u001B[39m, \u001B[38;5;28;01mNone\u001B[39;00m) \u001B[38;5;241m!=\u001B[39m \u001B[38;5;124m'\u001B[39m\u001B[38;5;124mfunctools\u001B[39m\u001B[38;5;124m'\u001B[39m\n\u001B[1;32m    421\u001B[0m     ):\n",
      "\u001B[0;31mPydanticUserError\u001B[0m: A non-annotated attribute was detected: `client = None`. All model fields require a type annotation; if `client` is not meant to be a field, you may be able to resolve this error by annotating it as a `ClassVar` or updating `model_config['ignored_types']`.\n\nFor further information visit https://errors.pydantic.dev/2.7/u/model-field-missing-annotation"
     ]
    }
   ],
   "execution_count": 17
  },
  {
   "metadata": {
    "ExecuteTime": {
     "end_time": "2024-05-30T20:53:57.051597Z",
     "start_time": "2024-05-30T20:53:57.044111Z"
    }
   },
   "cell_type": "code",
   "source": [
    "class GuitarInfoModel(BaseModel):\n",
    "    guitar_name: ZepText = Field(title=\"A\", description=\"Type of guitar\")\n",
    "    # guitar_year: ZepFloat = Field(title=\"B\", description=\"Year of the guitar\")\n",
    "    \n",
    "g = GuitarInfoModel()"
   ],
   "id": "111fed13fd44bdee",
   "outputs": [],
   "execution_count": 23
  },
  {
   "metadata": {
    "ExecuteTime": {
     "end_time": "2024-05-30T20:53:57.455787Z",
     "start_time": "2024-05-30T20:53:57.450298Z"
    }
   },
   "cell_type": "code",
   "source": "g.schema_json()",
   "id": "e9f24930eca0f24",
   "outputs": [
    {
     "data": {
      "text/plain": [
       "'{\"properties\": {\"guitar_name\": {\"anyOf\": [{\"type\": \"string\"}, {\"type\": \"null\"}], \"default\": null, \"description\": \"Type of guitar\", \"title\": \"A\", \"zeptype\": \"ZepText\"}}, \"title\": \"GuitarInfoModel\", \"type\": \"object\"}'"
      ]
     },
     "execution_count": 24,
     "metadata": {},
     "output_type": "execute_result"
    }
   ],
   "execution_count": 24
  },
  {
   "metadata": {
    "ExecuteTime": {
     "end_time": "2024-05-30T18:47:19.108684Z",
     "start_time": "2024-05-30T18:47:18.701672Z"
    }
   },
   "cell_type": "code",
   "source": [
    "from zep_cloud.client import AsyncZep\n",
    "\n",
    "\n",
    "class Something(BaseModel):\n",
    "    _client: AsyncZep"
   ],
   "id": "bb2308615c7b429c",
   "outputs": [
    {
     "ename": "PydanticSchemaGenerationError",
     "evalue": "Unable to generate pydantic-core schema for <class 'zep_cloud.memory.client.AsyncMemoryClient'>. Set `arbitrary_types_allowed=True` in the model_config to ignore this error or implement `__get_pydantic_core_schema__` on your type to fully support it.\n\nIf you got this error by calling handler(<some type>) within `__get_pydantic_core_schema__` then you likely need to call `handler.generate_schema(<some type>)` since we do not call `__get_pydantic_core_schema__` on `<some type>` otherwise to avoid infinite recursion.\n\nFor further information visit https://errors.pydantic.dev/2.7/u/schema-for-unknown-type",
     "output_type": "error",
     "traceback": [
      "\u001B[0;31m---------------------------------------------------------------------------\u001B[0m",
      "\u001B[0;31mPydanticSchemaGenerationError\u001B[0m             Traceback (most recent call last)",
      "Cell \u001B[0;32mIn[20], line 1\u001B[0m\n\u001B[0;32m----> 1\u001B[0m \u001B[38;5;28;01mfrom\u001B[39;00m \u001B[38;5;21;01mzep_cloud\u001B[39;00m\u001B[38;5;21;01m.\u001B[39;00m\u001B[38;5;21;01mclient\u001B[39;00m \u001B[38;5;28;01mimport\u001B[39;00m AsyncZep\n\u001B[1;32m      4\u001B[0m \u001B[38;5;28;01mclass\u001B[39;00m \u001B[38;5;21;01mSomething\u001B[39;00m(BaseModel):\n\u001B[1;32m      5\u001B[0m     _client: AsyncZep\n",
      "File \u001B[0;32m~/code/zepai/zep-python/src/zep_cloud/client.py:7\u001B[0m\n\u001B[1;32m      5\u001B[0m \u001B[38;5;28;01mimport\u001B[39;00m \u001B[38;5;21;01mhttpx\u001B[39;00m\n\u001B[1;32m      6\u001B[0m \u001B[38;5;28;01mfrom\u001B[39;00m \u001B[38;5;21;01m.\u001B[39;00m\u001B[38;5;21;01menvironment\u001B[39;00m \u001B[38;5;28;01mimport\u001B[39;00m ZepEnvironment\n\u001B[0;32m----> 7\u001B[0m \u001B[38;5;28;01mfrom\u001B[39;00m \u001B[38;5;21;01m.\u001B[39;00m\u001B[38;5;21;01mexternal_clients\u001B[39;00m\u001B[38;5;21;01m.\u001B[39;00m\u001B[38;5;21;01mmemory\u001B[39;00m \u001B[38;5;28;01mimport\u001B[39;00m MemoryClient, AsyncMemoryClient\n\u001B[1;32m      8\u001B[0m \u001B[38;5;28;01mfrom\u001B[39;00m \u001B[38;5;21;01m.\u001B[39;00m\u001B[38;5;21;01mexternal_clients\u001B[39;00m\u001B[38;5;21;01m.\u001B[39;00m\u001B[38;5;21;01mdocument\u001B[39;00m \u001B[38;5;28;01mimport\u001B[39;00m DocumentClient, AsyncDocumentClient\n\u001B[1;32m      9\u001B[0m \u001B[38;5;28;01mfrom\u001B[39;00m \u001B[38;5;21;01m.\u001B[39;00m\u001B[38;5;21;01mexternal_clients\u001B[39;00m\u001B[38;5;21;01m.\u001B[39;00m\u001B[38;5;21;01muser\u001B[39;00m \u001B[38;5;28;01mimport\u001B[39;00m UserClient, AsyncUserClient\n",
      "File \u001B[0;32m~/code/zepai/zep-python/src/zep_cloud/external_clients/memory.py:26\u001B[0m\n\u001B[1;32m     17\u001B[0m     \u001B[38;5;28mtype\u001B[39m: ZepDataType \u001B[38;5;241m=\u001B[39m \u001B[38;5;124m\"\u001B[39m\u001B[38;5;124mZepFloat\u001B[39m\u001B[38;5;124m\"\u001B[39m\n\u001B[1;32m     20\u001B[0m ZepFloat \u001B[38;5;241m=\u001B[39m Annotated[\n\u001B[1;32m     21\u001B[0m     \u001B[38;5;28mfloat\u001B[39m \u001B[38;5;241m|\u001B[39m \u001B[38;5;28;01mNone\u001B[39;00m,\n\u001B[1;32m     22\u001B[0m     Field(default\u001B[38;5;241m=\u001B[39m\u001B[38;5;28;01mNone\u001B[39;00m, zeptype\u001B[38;5;241m=\u001B[39m\u001B[38;5;124m\"\u001B[39m\u001B[38;5;124mZepFloat\u001B[39m\u001B[38;5;124m\"\u001B[39m),\n\u001B[1;32m     23\u001B[0m     WithJsonSchema(ZepBaseFloat\u001B[38;5;241m.\u001B[39mmodel_json_schema(), mode\u001B[38;5;241m=\u001B[39m\u001B[38;5;124m'\u001B[39m\u001B[38;5;124mserialization\u001B[39m\u001B[38;5;124m'\u001B[39m),\n\u001B[1;32m     24\u001B[0m ]\n\u001B[0;32m---> 26\u001B[0m \u001B[38;5;28;01mclass\u001B[39;00m \u001B[38;5;21;01mZepExtractorModel\u001B[39;00m(BaseModel):\n\u001B[1;32m     27\u001B[0m     client: AsyncMemoryClient\n\u001B[1;32m     28\u001B[0m     session_id: \u001B[38;5;28mstr\u001B[39m\n",
      "File \u001B[0;32m~/code/zepai/zep-python/.venv/lib/python3.10/site-packages/pydantic/_internal/_model_construction.py:202\u001B[0m, in \u001B[0;36mModelMetaclass.__new__\u001B[0;34m(mcs, cls_name, bases, namespace, __pydantic_generic_metadata__, __pydantic_reset_parent_namespace__, _create_model_module, **kwargs)\u001B[0m\n\u001B[1;32m    199\u001B[0m \u001B[38;5;28;01mif\u001B[39;00m config_wrapper\u001B[38;5;241m.\u001B[39mfrozen \u001B[38;5;129;01mand\u001B[39;00m \u001B[38;5;124m'\u001B[39m\u001B[38;5;124m__hash__\u001B[39m\u001B[38;5;124m'\u001B[39m \u001B[38;5;129;01mnot\u001B[39;00m \u001B[38;5;129;01min\u001B[39;00m namespace:\n\u001B[1;32m    200\u001B[0m     set_default_hash_func(\u001B[38;5;28mcls\u001B[39m, bases)\n\u001B[0;32m--> 202\u001B[0m \u001B[43mcomplete_model_class\u001B[49m\u001B[43m(\u001B[49m\n\u001B[1;32m    203\u001B[0m \u001B[43m    \u001B[49m\u001B[38;5;28;43mcls\u001B[39;49m\u001B[43m,\u001B[49m\n\u001B[1;32m    204\u001B[0m \u001B[43m    \u001B[49m\u001B[43mcls_name\u001B[49m\u001B[43m,\u001B[49m\n\u001B[1;32m    205\u001B[0m \u001B[43m    \u001B[49m\u001B[43mconfig_wrapper\u001B[49m\u001B[43m,\u001B[49m\n\u001B[1;32m    206\u001B[0m \u001B[43m    \u001B[49m\u001B[43mraise_errors\u001B[49m\u001B[38;5;241;43m=\u001B[39;49m\u001B[38;5;28;43;01mFalse\u001B[39;49;00m\u001B[43m,\u001B[49m\n\u001B[1;32m    207\u001B[0m \u001B[43m    \u001B[49m\u001B[43mtypes_namespace\u001B[49m\u001B[38;5;241;43m=\u001B[39;49m\u001B[43mtypes_namespace\u001B[49m\u001B[43m,\u001B[49m\n\u001B[1;32m    208\u001B[0m \u001B[43m    \u001B[49m\u001B[43mcreate_model_module\u001B[49m\u001B[38;5;241;43m=\u001B[39;49m\u001B[43m_create_model_module\u001B[49m\u001B[43m,\u001B[49m\n\u001B[1;32m    209\u001B[0m \u001B[43m\u001B[49m\u001B[43m)\u001B[49m\n\u001B[1;32m    211\u001B[0m \u001B[38;5;66;03m# If this is placed before the complete_model_class call above,\u001B[39;00m\n\u001B[1;32m    212\u001B[0m \u001B[38;5;66;03m# the generic computed fields return type is set to PydanticUndefined\u001B[39;00m\n\u001B[1;32m    213\u001B[0m \u001B[38;5;28mcls\u001B[39m\u001B[38;5;241m.\u001B[39mmodel_computed_fields \u001B[38;5;241m=\u001B[39m {k: v\u001B[38;5;241m.\u001B[39minfo \u001B[38;5;28;01mfor\u001B[39;00m k, v \u001B[38;5;129;01min\u001B[39;00m \u001B[38;5;28mcls\u001B[39m\u001B[38;5;241m.\u001B[39m__pydantic_decorators__\u001B[38;5;241m.\u001B[39mcomputed_fields\u001B[38;5;241m.\u001B[39mitems()}\n",
      "File \u001B[0;32m~/code/zepai/zep-python/.venv/lib/python3.10/site-packages/pydantic/_internal/_model_construction.py:539\u001B[0m, in \u001B[0;36mcomplete_model_class\u001B[0;34m(cls, cls_name, config_wrapper, raise_errors, types_namespace, create_model_module)\u001B[0m\n\u001B[1;32m    536\u001B[0m     \u001B[38;5;28;01mreturn\u001B[39;00m \u001B[38;5;28;01mFalse\u001B[39;00m\n\u001B[1;32m    538\u001B[0m \u001B[38;5;28;01mtry\u001B[39;00m:\n\u001B[0;32m--> 539\u001B[0m     schema \u001B[38;5;241m=\u001B[39m \u001B[38;5;28;43mcls\u001B[39;49m\u001B[38;5;241;43m.\u001B[39;49m\u001B[43m__get_pydantic_core_schema__\u001B[49m\u001B[43m(\u001B[49m\u001B[38;5;28;43mcls\u001B[39;49m\u001B[43m,\u001B[49m\u001B[43m \u001B[49m\u001B[43mhandler\u001B[49m\u001B[43m)\u001B[49m\n\u001B[1;32m    540\u001B[0m \u001B[38;5;28;01mexcept\u001B[39;00m PydanticUndefinedAnnotation \u001B[38;5;28;01mas\u001B[39;00m e:\n\u001B[1;32m    541\u001B[0m     \u001B[38;5;28;01mif\u001B[39;00m raise_errors:\n",
      "File \u001B[0;32m~/code/zepai/zep-python/.venv/lib/python3.10/site-packages/pydantic/main.py:626\u001B[0m, in \u001B[0;36mBaseModel.__get_pydantic_core_schema__\u001B[0;34m(cls, source, handler)\u001B[0m\n\u001B[1;32m    623\u001B[0m     \u001B[38;5;28;01mif\u001B[39;00m \u001B[38;5;129;01mnot\u001B[39;00m \u001B[38;5;28mcls\u001B[39m\u001B[38;5;241m.\u001B[39m__pydantic_generic_metadata__[\u001B[38;5;124m'\u001B[39m\u001B[38;5;124morigin\u001B[39m\u001B[38;5;124m'\u001B[39m]:\n\u001B[1;32m    624\u001B[0m         \u001B[38;5;28;01mreturn\u001B[39;00m \u001B[38;5;28mcls\u001B[39m\u001B[38;5;241m.\u001B[39m__pydantic_core_schema__\n\u001B[0;32m--> 626\u001B[0m \u001B[38;5;28;01mreturn\u001B[39;00m \u001B[43mhandler\u001B[49m\u001B[43m(\u001B[49m\u001B[43msource\u001B[49m\u001B[43m)\u001B[49m\n",
      "File \u001B[0;32m~/code/zepai/zep-python/.venv/lib/python3.10/site-packages/pydantic/_internal/_schema_generation_shared.py:82\u001B[0m, in \u001B[0;36mCallbackGetCoreSchemaHandler.__call__\u001B[0;34m(self, source_type)\u001B[0m\n\u001B[1;32m     81\u001B[0m \u001B[38;5;28;01mdef\u001B[39;00m \u001B[38;5;21m__call__\u001B[39m(\u001B[38;5;28mself\u001B[39m, source_type: Any, \u001B[38;5;241m/\u001B[39m) \u001B[38;5;241m-\u001B[39m\u001B[38;5;241m>\u001B[39m core_schema\u001B[38;5;241m.\u001B[39mCoreSchema:\n\u001B[0;32m---> 82\u001B[0m     schema \u001B[38;5;241m=\u001B[39m \u001B[38;5;28;43mself\u001B[39;49m\u001B[38;5;241;43m.\u001B[39;49m\u001B[43m_handler\u001B[49m\u001B[43m(\u001B[49m\u001B[43msource_type\u001B[49m\u001B[43m)\u001B[49m\n\u001B[1;32m     83\u001B[0m     ref \u001B[38;5;241m=\u001B[39m schema\u001B[38;5;241m.\u001B[39mget(\u001B[38;5;124m'\u001B[39m\u001B[38;5;124mref\u001B[39m\u001B[38;5;124m'\u001B[39m)\n\u001B[1;32m     84\u001B[0m     \u001B[38;5;28;01mif\u001B[39;00m \u001B[38;5;28mself\u001B[39m\u001B[38;5;241m.\u001B[39m_ref_mode \u001B[38;5;241m==\u001B[39m \u001B[38;5;124m'\u001B[39m\u001B[38;5;124mto-def\u001B[39m\u001B[38;5;124m'\u001B[39m:\n",
      "File \u001B[0;32m~/code/zepai/zep-python/.venv/lib/python3.10/site-packages/pydantic/_internal/_generate_schema.py:502\u001B[0m, in \u001B[0;36mGenerateSchema.generate_schema\u001B[0;34m(self, obj, from_dunder_get_core_schema)\u001B[0m\n\u001B[1;32m    499\u001B[0m         schema \u001B[38;5;241m=\u001B[39m from_property\n\u001B[1;32m    501\u001B[0m \u001B[38;5;28;01mif\u001B[39;00m schema \u001B[38;5;129;01mis\u001B[39;00m \u001B[38;5;28;01mNone\u001B[39;00m:\n\u001B[0;32m--> 502\u001B[0m     schema \u001B[38;5;241m=\u001B[39m \u001B[38;5;28;43mself\u001B[39;49m\u001B[38;5;241;43m.\u001B[39;49m\u001B[43m_generate_schema_inner\u001B[49m\u001B[43m(\u001B[49m\u001B[43mobj\u001B[49m\u001B[43m)\u001B[49m\n\u001B[1;32m    504\u001B[0m metadata_js_function \u001B[38;5;241m=\u001B[39m _extract_get_pydantic_json_schema(obj, schema)\n\u001B[1;32m    505\u001B[0m \u001B[38;5;28;01mif\u001B[39;00m metadata_js_function \u001B[38;5;129;01mis\u001B[39;00m \u001B[38;5;129;01mnot\u001B[39;00m \u001B[38;5;28;01mNone\u001B[39;00m:\n",
      "File \u001B[0;32m~/code/zepai/zep-python/.venv/lib/python3.10/site-packages/pydantic/_internal/_generate_schema.py:753\u001B[0m, in \u001B[0;36mGenerateSchema._generate_schema_inner\u001B[0;34m(self, obj)\u001B[0m\n\u001B[1;32m    751\u001B[0m \u001B[38;5;28;01mif\u001B[39;00m lenient_issubclass(obj, BaseModel):\n\u001B[1;32m    752\u001B[0m     \u001B[38;5;28;01mwith\u001B[39;00m \u001B[38;5;28mself\u001B[39m\u001B[38;5;241m.\u001B[39mmodel_type_stack\u001B[38;5;241m.\u001B[39mpush(obj):\n\u001B[0;32m--> 753\u001B[0m         \u001B[38;5;28;01mreturn\u001B[39;00m \u001B[38;5;28;43mself\u001B[39;49m\u001B[38;5;241;43m.\u001B[39;49m\u001B[43m_model_schema\u001B[49m\u001B[43m(\u001B[49m\u001B[43mobj\u001B[49m\u001B[43m)\u001B[49m\n\u001B[1;32m    755\u001B[0m \u001B[38;5;28;01mif\u001B[39;00m \u001B[38;5;28misinstance\u001B[39m(obj, PydanticRecursiveRef):\n\u001B[1;32m    756\u001B[0m     \u001B[38;5;28;01mreturn\u001B[39;00m core_schema\u001B[38;5;241m.\u001B[39mdefinition_reference_schema(schema_ref\u001B[38;5;241m=\u001B[39mobj\u001B[38;5;241m.\u001B[39mtype_ref)\n",
      "File \u001B[0;32m~/code/zepai/zep-python/.venv/lib/python3.10/site-packages/pydantic/_internal/_generate_schema.py:580\u001B[0m, in \u001B[0;36mGenerateSchema._model_schema\u001B[0;34m(self, cls)\u001B[0m\n\u001B[1;32m    568\u001B[0m     model_schema \u001B[38;5;241m=\u001B[39m core_schema\u001B[38;5;241m.\u001B[39mmodel_schema(\n\u001B[1;32m    569\u001B[0m         \u001B[38;5;28mcls\u001B[39m,\n\u001B[1;32m    570\u001B[0m         inner_schema,\n\u001B[0;32m   (...)\u001B[0m\n\u001B[1;32m    576\u001B[0m         metadata\u001B[38;5;241m=\u001B[39mmetadata,\n\u001B[1;32m    577\u001B[0m     )\n\u001B[1;32m    578\u001B[0m \u001B[38;5;28;01melse\u001B[39;00m:\n\u001B[1;32m    579\u001B[0m     fields_schema: core_schema\u001B[38;5;241m.\u001B[39mCoreSchema \u001B[38;5;241m=\u001B[39m core_schema\u001B[38;5;241m.\u001B[39mmodel_fields_schema(\n\u001B[0;32m--> 580\u001B[0m         {k: \u001B[38;5;28mself\u001B[39m\u001B[38;5;241m.\u001B[39m_generate_md_field_schema(k, v, decorators) \u001B[38;5;28;01mfor\u001B[39;00m k, v \u001B[38;5;129;01min\u001B[39;00m fields\u001B[38;5;241m.\u001B[39mitems()},\n\u001B[1;32m    581\u001B[0m         computed_fields\u001B[38;5;241m=\u001B[39m[\n\u001B[1;32m    582\u001B[0m             \u001B[38;5;28mself\u001B[39m\u001B[38;5;241m.\u001B[39m_computed_field_schema(d, decorators\u001B[38;5;241m.\u001B[39mfield_serializers)\n\u001B[1;32m    583\u001B[0m             \u001B[38;5;28;01mfor\u001B[39;00m d \u001B[38;5;129;01min\u001B[39;00m computed_fields\u001B[38;5;241m.\u001B[39mvalues()\n\u001B[1;32m    584\u001B[0m         ],\n\u001B[1;32m    585\u001B[0m         extras_schema\u001B[38;5;241m=\u001B[39mextras_schema,\n\u001B[1;32m    586\u001B[0m         model_name\u001B[38;5;241m=\u001B[39m\u001B[38;5;28mcls\u001B[39m\u001B[38;5;241m.\u001B[39m\u001B[38;5;18m__name__\u001B[39m,\n\u001B[1;32m    587\u001B[0m     )\n\u001B[1;32m    588\u001B[0m     inner_schema \u001B[38;5;241m=\u001B[39m apply_validators(fields_schema, decorators\u001B[38;5;241m.\u001B[39mroot_validators\u001B[38;5;241m.\u001B[39mvalues(), \u001B[38;5;28;01mNone\u001B[39;00m)\n\u001B[1;32m    589\u001B[0m     new_inner_schema \u001B[38;5;241m=\u001B[39m define_expected_missing_refs(inner_schema, recursively_defined_type_refs())\n",
      "File \u001B[0;32m~/code/zepai/zep-python/.venv/lib/python3.10/site-packages/pydantic/_internal/_generate_schema.py:580\u001B[0m, in \u001B[0;36m<dictcomp>\u001B[0;34m(.0)\u001B[0m\n\u001B[1;32m    568\u001B[0m     model_schema \u001B[38;5;241m=\u001B[39m core_schema\u001B[38;5;241m.\u001B[39mmodel_schema(\n\u001B[1;32m    569\u001B[0m         \u001B[38;5;28mcls\u001B[39m,\n\u001B[1;32m    570\u001B[0m         inner_schema,\n\u001B[0;32m   (...)\u001B[0m\n\u001B[1;32m    576\u001B[0m         metadata\u001B[38;5;241m=\u001B[39mmetadata,\n\u001B[1;32m    577\u001B[0m     )\n\u001B[1;32m    578\u001B[0m \u001B[38;5;28;01melse\u001B[39;00m:\n\u001B[1;32m    579\u001B[0m     fields_schema: core_schema\u001B[38;5;241m.\u001B[39mCoreSchema \u001B[38;5;241m=\u001B[39m core_schema\u001B[38;5;241m.\u001B[39mmodel_fields_schema(\n\u001B[0;32m--> 580\u001B[0m         {k: \u001B[38;5;28;43mself\u001B[39;49m\u001B[38;5;241;43m.\u001B[39;49m\u001B[43m_generate_md_field_schema\u001B[49m\u001B[43m(\u001B[49m\u001B[43mk\u001B[49m\u001B[43m,\u001B[49m\u001B[43m \u001B[49m\u001B[43mv\u001B[49m\u001B[43m,\u001B[49m\u001B[43m \u001B[49m\u001B[43mdecorators\u001B[49m\u001B[43m)\u001B[49m \u001B[38;5;28;01mfor\u001B[39;00m k, v \u001B[38;5;129;01min\u001B[39;00m fields\u001B[38;5;241m.\u001B[39mitems()},\n\u001B[1;32m    581\u001B[0m         computed_fields\u001B[38;5;241m=\u001B[39m[\n\u001B[1;32m    582\u001B[0m             \u001B[38;5;28mself\u001B[39m\u001B[38;5;241m.\u001B[39m_computed_field_schema(d, decorators\u001B[38;5;241m.\u001B[39mfield_serializers)\n\u001B[1;32m    583\u001B[0m             \u001B[38;5;28;01mfor\u001B[39;00m d \u001B[38;5;129;01min\u001B[39;00m computed_fields\u001B[38;5;241m.\u001B[39mvalues()\n\u001B[1;32m    584\u001B[0m         ],\n\u001B[1;32m    585\u001B[0m         extras_schema\u001B[38;5;241m=\u001B[39mextras_schema,\n\u001B[1;32m    586\u001B[0m         model_name\u001B[38;5;241m=\u001B[39m\u001B[38;5;28mcls\u001B[39m\u001B[38;5;241m.\u001B[39m\u001B[38;5;18m__name__\u001B[39m,\n\u001B[1;32m    587\u001B[0m     )\n\u001B[1;32m    588\u001B[0m     inner_schema \u001B[38;5;241m=\u001B[39m apply_validators(fields_schema, decorators\u001B[38;5;241m.\u001B[39mroot_validators\u001B[38;5;241m.\u001B[39mvalues(), \u001B[38;5;28;01mNone\u001B[39;00m)\n\u001B[1;32m    589\u001B[0m     new_inner_schema \u001B[38;5;241m=\u001B[39m define_expected_missing_refs(inner_schema, recursively_defined_type_refs())\n",
      "File \u001B[0;32m~/code/zepai/zep-python/.venv/lib/python3.10/site-packages/pydantic/_internal/_generate_schema.py:916\u001B[0m, in \u001B[0;36mGenerateSchema._generate_md_field_schema\u001B[0;34m(self, name, field_info, decorators)\u001B[0m\n\u001B[1;32m    909\u001B[0m \u001B[38;5;28;01mdef\u001B[39;00m \u001B[38;5;21m_generate_md_field_schema\u001B[39m(\n\u001B[1;32m    910\u001B[0m     \u001B[38;5;28mself\u001B[39m,\n\u001B[1;32m    911\u001B[0m     name: \u001B[38;5;28mstr\u001B[39m,\n\u001B[1;32m    912\u001B[0m     field_info: FieldInfo,\n\u001B[1;32m    913\u001B[0m     decorators: DecoratorInfos,\n\u001B[1;32m    914\u001B[0m ) \u001B[38;5;241m-\u001B[39m\u001B[38;5;241m>\u001B[39m core_schema\u001B[38;5;241m.\u001B[39mModelField:\n\u001B[1;32m    915\u001B[0m \u001B[38;5;250m    \u001B[39m\u001B[38;5;124;03m\"\"\"Prepare a ModelField to represent a model field.\"\"\"\u001B[39;00m\n\u001B[0;32m--> 916\u001B[0m     common_field \u001B[38;5;241m=\u001B[39m \u001B[38;5;28;43mself\u001B[39;49m\u001B[38;5;241;43m.\u001B[39;49m\u001B[43m_common_field_schema\u001B[49m\u001B[43m(\u001B[49m\u001B[43mname\u001B[49m\u001B[43m,\u001B[49m\u001B[43m \u001B[49m\u001B[43mfield_info\u001B[49m\u001B[43m,\u001B[49m\u001B[43m \u001B[49m\u001B[43mdecorators\u001B[49m\u001B[43m)\u001B[49m\n\u001B[1;32m    917\u001B[0m     \u001B[38;5;28;01mreturn\u001B[39;00m core_schema\u001B[38;5;241m.\u001B[39mmodel_field(\n\u001B[1;32m    918\u001B[0m         common_field[\u001B[38;5;124m'\u001B[39m\u001B[38;5;124mschema\u001B[39m\u001B[38;5;124m'\u001B[39m],\n\u001B[1;32m    919\u001B[0m         serialization_exclude\u001B[38;5;241m=\u001B[39mcommon_field[\u001B[38;5;124m'\u001B[39m\u001B[38;5;124mserialization_exclude\u001B[39m\u001B[38;5;124m'\u001B[39m],\n\u001B[0;32m   (...)\u001B[0m\n\u001B[1;32m    923\u001B[0m         metadata\u001B[38;5;241m=\u001B[39mcommon_field[\u001B[38;5;124m'\u001B[39m\u001B[38;5;124mmetadata\u001B[39m\u001B[38;5;124m'\u001B[39m],\n\u001B[1;32m    924\u001B[0m     )\n",
      "File \u001B[0;32m~/code/zepai/zep-python/.venv/lib/python3.10/site-packages/pydantic/_internal/_generate_schema.py:1081\u001B[0m, in \u001B[0;36mGenerateSchema._common_field_schema\u001B[0;34m(self, name, field_info, decorators)\u001B[0m\n\u001B[1;32m   1079\u001B[0m         schema \u001B[38;5;241m=\u001B[39m \u001B[38;5;28mself\u001B[39m\u001B[38;5;241m.\u001B[39m_apply_annotations(source_type, annotations, transform_inner_schema\u001B[38;5;241m=\u001B[39mset_discriminator)\n\u001B[1;32m   1080\u001B[0m     \u001B[38;5;28;01melse\u001B[39;00m:\n\u001B[0;32m-> 1081\u001B[0m         schema \u001B[38;5;241m=\u001B[39m \u001B[38;5;28;43mself\u001B[39;49m\u001B[38;5;241;43m.\u001B[39;49m\u001B[43m_apply_annotations\u001B[49m\u001B[43m(\u001B[49m\n\u001B[1;32m   1082\u001B[0m \u001B[43m            \u001B[49m\u001B[43msource_type\u001B[49m\u001B[43m,\u001B[49m\n\u001B[1;32m   1083\u001B[0m \u001B[43m            \u001B[49m\u001B[43mannotations\u001B[49m\u001B[43m,\u001B[49m\n\u001B[1;32m   1084\u001B[0m \u001B[43m        \u001B[49m\u001B[43m)\u001B[49m\n\u001B[1;32m   1086\u001B[0m \u001B[38;5;66;03m# This V1 compatibility shim should eventually be removed\u001B[39;00m\n\u001B[1;32m   1087\u001B[0m \u001B[38;5;66;03m# push down any `each_item=True` validators\u001B[39;00m\n\u001B[1;32m   1088\u001B[0m \u001B[38;5;66;03m# note that this won't work for any Annotated types that get wrapped by a function validator\u001B[39;00m\n\u001B[1;32m   1089\u001B[0m \u001B[38;5;66;03m# but that's okay because that didn't exist in V1\u001B[39;00m\n\u001B[1;32m   1090\u001B[0m this_field_validators \u001B[38;5;241m=\u001B[39m filter_field_decorator_info_by_field(decorators\u001B[38;5;241m.\u001B[39mvalidators\u001B[38;5;241m.\u001B[39mvalues(), name)\n",
      "File \u001B[0;32m~/code/zepai/zep-python/.venv/lib/python3.10/site-packages/pydantic/_internal/_generate_schema.py:1820\u001B[0m, in \u001B[0;36mGenerateSchema._apply_annotations\u001B[0;34m(self, source_type, annotations, transform_inner_schema)\u001B[0m\n\u001B[1;32m   1815\u001B[0m         \u001B[38;5;28;01mcontinue\u001B[39;00m\n\u001B[1;32m   1816\u001B[0m     get_inner_schema \u001B[38;5;241m=\u001B[39m \u001B[38;5;28mself\u001B[39m\u001B[38;5;241m.\u001B[39m_get_wrapped_inner_schema(\n\u001B[1;32m   1817\u001B[0m         get_inner_schema, annotation, pydantic_js_annotation_functions\n\u001B[1;32m   1818\u001B[0m     )\n\u001B[0;32m-> 1820\u001B[0m schema \u001B[38;5;241m=\u001B[39m \u001B[43mget_inner_schema\u001B[49m\u001B[43m(\u001B[49m\u001B[43msource_type\u001B[49m\u001B[43m)\u001B[49m\n\u001B[1;32m   1821\u001B[0m \u001B[38;5;28;01mif\u001B[39;00m pydantic_js_annotation_functions:\n\u001B[1;32m   1822\u001B[0m     metadata \u001B[38;5;241m=\u001B[39m CoreMetadataHandler(schema)\u001B[38;5;241m.\u001B[39mmetadata\n",
      "File \u001B[0;32m~/code/zepai/zep-python/.venv/lib/python3.10/site-packages/pydantic/_internal/_schema_generation_shared.py:82\u001B[0m, in \u001B[0;36mCallbackGetCoreSchemaHandler.__call__\u001B[0;34m(self, source_type)\u001B[0m\n\u001B[1;32m     81\u001B[0m \u001B[38;5;28;01mdef\u001B[39;00m \u001B[38;5;21m__call__\u001B[39m(\u001B[38;5;28mself\u001B[39m, source_type: Any, \u001B[38;5;241m/\u001B[39m) \u001B[38;5;241m-\u001B[39m\u001B[38;5;241m>\u001B[39m core_schema\u001B[38;5;241m.\u001B[39mCoreSchema:\n\u001B[0;32m---> 82\u001B[0m     schema \u001B[38;5;241m=\u001B[39m \u001B[38;5;28;43mself\u001B[39;49m\u001B[38;5;241;43m.\u001B[39;49m\u001B[43m_handler\u001B[49m\u001B[43m(\u001B[49m\u001B[43msource_type\u001B[49m\u001B[43m)\u001B[49m\n\u001B[1;32m     83\u001B[0m     ref \u001B[38;5;241m=\u001B[39m schema\u001B[38;5;241m.\u001B[39mget(\u001B[38;5;124m'\u001B[39m\u001B[38;5;124mref\u001B[39m\u001B[38;5;124m'\u001B[39m)\n\u001B[1;32m     84\u001B[0m     \u001B[38;5;28;01mif\u001B[39;00m \u001B[38;5;28mself\u001B[39m\u001B[38;5;241m.\u001B[39m_ref_mode \u001B[38;5;241m==\u001B[39m \u001B[38;5;124m'\u001B[39m\u001B[38;5;124mto-def\u001B[39m\u001B[38;5;124m'\u001B[39m:\n",
      "File \u001B[0;32m~/code/zepai/zep-python/.venv/lib/python3.10/site-packages/pydantic/_internal/_generate_schema.py:1801\u001B[0m, in \u001B[0;36mGenerateSchema._apply_annotations.<locals>.inner_handler\u001B[0;34m(obj)\u001B[0m\n\u001B[1;32m   1799\u001B[0m from_property \u001B[38;5;241m=\u001B[39m \u001B[38;5;28mself\u001B[39m\u001B[38;5;241m.\u001B[39m_generate_schema_from_property(obj, obj)\n\u001B[1;32m   1800\u001B[0m \u001B[38;5;28;01mif\u001B[39;00m from_property \u001B[38;5;129;01mis\u001B[39;00m \u001B[38;5;28;01mNone\u001B[39;00m:\n\u001B[0;32m-> 1801\u001B[0m     schema \u001B[38;5;241m=\u001B[39m \u001B[38;5;28;43mself\u001B[39;49m\u001B[38;5;241;43m.\u001B[39;49m\u001B[43m_generate_schema_inner\u001B[49m\u001B[43m(\u001B[49m\u001B[43mobj\u001B[49m\u001B[43m)\u001B[49m\n\u001B[1;32m   1802\u001B[0m \u001B[38;5;28;01melse\u001B[39;00m:\n\u001B[1;32m   1803\u001B[0m     schema \u001B[38;5;241m=\u001B[39m from_property\n",
      "File \u001B[0;32m~/code/zepai/zep-python/.venv/lib/python3.10/site-packages/pydantic/_internal/_generate_schema.py:758\u001B[0m, in \u001B[0;36mGenerateSchema._generate_schema_inner\u001B[0;34m(self, obj)\u001B[0m\n\u001B[1;32m    755\u001B[0m \u001B[38;5;28;01mif\u001B[39;00m \u001B[38;5;28misinstance\u001B[39m(obj, PydanticRecursiveRef):\n\u001B[1;32m    756\u001B[0m     \u001B[38;5;28;01mreturn\u001B[39;00m core_schema\u001B[38;5;241m.\u001B[39mdefinition_reference_schema(schema_ref\u001B[38;5;241m=\u001B[39mobj\u001B[38;5;241m.\u001B[39mtype_ref)\n\u001B[0;32m--> 758\u001B[0m \u001B[38;5;28;01mreturn\u001B[39;00m \u001B[38;5;28;43mself\u001B[39;49m\u001B[38;5;241;43m.\u001B[39;49m\u001B[43mmatch_type\u001B[49m\u001B[43m(\u001B[49m\u001B[43mobj\u001B[49m\u001B[43m)\u001B[49m\n",
      "File \u001B[0;32m~/code/zepai/zep-python/.venv/lib/python3.10/site-packages/pydantic/_internal/_generate_schema.py:844\u001B[0m, in \u001B[0;36mGenerateSchema.match_type\u001B[0;34m(self, obj)\u001B[0m\n\u001B[1;32m    842\u001B[0m \u001B[38;5;28;01mif\u001B[39;00m \u001B[38;5;28mself\u001B[39m\u001B[38;5;241m.\u001B[39m_arbitrary_types:\n\u001B[1;32m    843\u001B[0m     \u001B[38;5;28;01mreturn\u001B[39;00m \u001B[38;5;28mself\u001B[39m\u001B[38;5;241m.\u001B[39m_arbitrary_type_schema(obj)\n\u001B[0;32m--> 844\u001B[0m \u001B[38;5;28;01mreturn\u001B[39;00m \u001B[38;5;28;43mself\u001B[39;49m\u001B[38;5;241;43m.\u001B[39;49m\u001B[43m_unknown_type_schema\u001B[49m\u001B[43m(\u001B[49m\u001B[43mobj\u001B[49m\u001B[43m)\u001B[49m\n",
      "File \u001B[0;32m~/code/zepai/zep-python/.venv/lib/python3.10/site-packages/pydantic/_internal/_generate_schema.py:405\u001B[0m, in \u001B[0;36mGenerateSchema._unknown_type_schema\u001B[0;34m(self, obj)\u001B[0m\n\u001B[1;32m    404\u001B[0m \u001B[38;5;28;01mdef\u001B[39;00m \u001B[38;5;21m_unknown_type_schema\u001B[39m(\u001B[38;5;28mself\u001B[39m, obj: Any) \u001B[38;5;241m-\u001B[39m\u001B[38;5;241m>\u001B[39m CoreSchema:\n\u001B[0;32m--> 405\u001B[0m     \u001B[38;5;28;01mraise\u001B[39;00m PydanticSchemaGenerationError(\n\u001B[1;32m    406\u001B[0m         \u001B[38;5;124mf\u001B[39m\u001B[38;5;124m'\u001B[39m\u001B[38;5;124mUnable to generate pydantic-core schema for \u001B[39m\u001B[38;5;132;01m{\u001B[39;00mobj\u001B[38;5;132;01m!r}\u001B[39;00m\u001B[38;5;124m. \u001B[39m\u001B[38;5;124m'\u001B[39m\n\u001B[1;32m    407\u001B[0m         \u001B[38;5;124m'\u001B[39m\u001B[38;5;124mSet `arbitrary_types_allowed=True` in the model_config to ignore this error\u001B[39m\u001B[38;5;124m'\u001B[39m\n\u001B[1;32m    408\u001B[0m         \u001B[38;5;124m'\u001B[39m\u001B[38;5;124m or implement `__get_pydantic_core_schema__` on your type to fully support it.\u001B[39m\u001B[38;5;124m'\u001B[39m\n\u001B[1;32m    409\u001B[0m         \u001B[38;5;124m'\u001B[39m\u001B[38;5;130;01m\\n\u001B[39;00m\u001B[38;5;130;01m\\n\u001B[39;00m\u001B[38;5;124mIf you got this error by calling handler(<some type>) within\u001B[39m\u001B[38;5;124m'\u001B[39m\n\u001B[1;32m    410\u001B[0m         \u001B[38;5;124m'\u001B[39m\u001B[38;5;124m `__get_pydantic_core_schema__` then you likely need to call\u001B[39m\u001B[38;5;124m'\u001B[39m\n\u001B[1;32m    411\u001B[0m         \u001B[38;5;124m'\u001B[39m\u001B[38;5;124m `handler.generate_schema(<some type>)` since we do not call\u001B[39m\u001B[38;5;124m'\u001B[39m\n\u001B[1;32m    412\u001B[0m         \u001B[38;5;124m'\u001B[39m\u001B[38;5;124m `__get_pydantic_core_schema__` on `<some type>` otherwise to avoid infinite recursion.\u001B[39m\u001B[38;5;124m'\u001B[39m\n\u001B[1;32m    413\u001B[0m     )\n",
      "\u001B[0;31mPydanticSchemaGenerationError\u001B[0m: Unable to generate pydantic-core schema for <class 'zep_cloud.memory.client.AsyncMemoryClient'>. Set `arbitrary_types_allowed=True` in the model_config to ignore this error or implement `__get_pydantic_core_schema__` on your type to fully support it.\n\nIf you got this error by calling handler(<some type>) within `__get_pydantic_core_schema__` then you likely need to call `handler.generate_schema(<some type>)` since we do not call `__get_pydantic_core_schema__` on `<some type>` otherwise to avoid infinite recursion.\n\nFor further information visit https://errors.pydantic.dev/2.7/u/schema-for-unknown-type"
     ]
    }
   ],
   "execution_count": 20
  },
  {
   "metadata": {
    "ExecuteTime": {
     "end_time": "2024-05-30T20:57:20.823220Z",
     "start_time": "2024-05-30T20:57:20.816666Z"
    }
   },
   "cell_type": "code",
   "source": [
    "class DatesInfo(BaseModel):\n",
    "    camera_ship: ZepFloat = Field(description=\"What is the size of the apartment in sq feet\")\n",
    "\n",
    "    \n",
    "g = DatesInfo()\n",
    "g.schema_json()"
   ],
   "id": "c3a74644ffe3845a",
   "outputs": [
    {
     "data": {
      "text/plain": [
       "'{\"properties\": {\"camera_ship\": {\"anyOf\": [{\"type\": \"number\"}, {\"type\": \"null\"}], \"default\": null, \"description\": \"What is the size of the apartment in sq feet\", \"title\": \"Camera Ship\", \"zeptype\": \"ZepFloat\"}}, \"title\": \"DatesInfo\", \"type\": \"object\"}'"
      ]
     },
     "execution_count": 25,
     "metadata": {},
     "output_type": "execute_result"
    }
   ],
   "execution_count": 25
  },
  {
   "metadata": {},
   "cell_type": "code",
   "outputs": [],
   "execution_count": null,
   "source": "",
   "id": "f5428d89b721f771"
  }
 ],
 "metadata": {
  "kernelspec": {
   "display_name": "Python 3",
   "language": "python",
   "name": "python3"
  },
  "language_info": {
   "codemirror_mode": {
    "name": "ipython",
    "version": 2
   },
   "file_extension": ".py",
   "mimetype": "text/x-python",
   "name": "python",
   "nbconvert_exporter": "python",
   "pygments_lexer": "ipython2",
   "version": "2.7.6"
  }
 },
 "nbformat": 4,
 "nbformat_minor": 5
}
