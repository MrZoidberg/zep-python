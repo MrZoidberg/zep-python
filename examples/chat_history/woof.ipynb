{
 "cells": [
  {
   "cell_type": "code",
   "id": "initial_id",
   "metadata": {
    "collapsed": true,
    "ExecuteTime": {
     "end_time": "2024-05-31T16:42:40.111580Z",
     "start_time": "2024-05-31T16:42:39.970270Z"
    }
   },
   "source": [
    "from zep_cloud import ZepDataType\n",
    "import typing\n",
    "from dotenv import load_dotenv\n",
    "from pydantic import BaseModel, Field, WithJsonSchema\n",
    "from typing_extensions import Annotated\n",
    "from typing import Optional\n",
    "from zep_cloud.client import AsyncZep\n",
    "\n",
    "load_dotenv()\n",
    "\n",
    "class ZepBaseText(BaseModel):\n",
    "    description: typing.Optional[str] = None\n",
    "    type: ZepDataType = \"ZepText\"\n",
    "\n",
    "ZepText = Annotated[\n",
    "    str | None,\n",
    "    Field(default=None, zeptype=\"ZepText\"),\n",
    "    WithJsonSchema(ZepBaseText.model_json_schema(), mode='serialization'),\n",
    "]\n",
    "\n",
    "class ZepModel(BaseModel):\n",
    "    _client: Optional[AsyncZep] = None\n",
    "\n",
    "    def __init__(self, **data):\n",
    "        super().__init__(**data)\n",
    "        self._client = data.get('_client')\n",
    "\n",
    "    @property\n",
    "    def client(self):\n",
    "        return self._client\n",
    "    \n",
    "    def extract(self):\n",
    "        print(self._client.memory)\n",
    "        print(\"Extracting\")\n",
    "    \n",
    "\n",
    "\n",
    "import os\n",
    "\n",
    "API_KEY = os.environ.get(\"ZEP_API_KEY\")\n",
    "print(API_KEY)\n",
    "\n",
    "client = AsyncZep(\n",
    "        api_key=API_KEY,\n",
    "        base_url=\"http://localhost:8000/api/v2\"\n",
    "    )\n",
    "\n",
    "class TestModel (ZepModel):\n",
    "    a: ZepText = Field(description=\"This is a description\" )\n",
    "    b: ZepText = Field(description=\"This is a descriptionB\")\n",
    "    \n",
    "t = TestModel(a=\"hello\", b=\"world\", _client=client)\n",
    "\n",
    "print(t.client)\n",
    "\n",
    "t.extract()\n",
    "\n",
    "# g = GuitarInfoModel(_client=client, session_id=\"session_id\", balls=\"lskdjf\")\n",
    "# \n",
    "# g.extract()"
   ],
   "outputs": [
    {
     "name": "stdout",
     "output_type": "stream",
     "text": [
      "z_1dWlkIjoiN2E0NjcxZmMtZDM5ZS00OTQ1LWE4YWMtODFjNTM5NTU5N2M1In0.um46UqJMM7XwfaG2BhwpLGVVrA4fxSZAzDbh_5cX3k9ickzBFZsp9NQFMLr8BN0tPpD2-7tUAv60eJsA907rEg\n",
      "<zep_cloud.client.AsyncZep object at 0x11204d900>\n",
      "<zep_cloud.external_clients.memory.AsyncMemoryClient object at 0x11204d1e0>\n",
      "Extracting\n"
     ]
    }
   ],
   "execution_count": 1
  },
  {
   "metadata": {
    "ExecuteTime": {
     "end_time": "2024-05-31T15:03:23.899805Z",
     "start_time": "2024-05-31T15:03:23.895668Z"
    }
   },
   "cell_type": "code",
   "source": "",
   "id": "8452723807a4f7b4",
   "outputs": [],
   "execution_count": 20
  },
  {
   "metadata": {},
   "cell_type": "code",
   "outputs": [],
   "execution_count": null,
   "source": "",
   "id": "d010cb64f3ad7234"
  }
 ],
 "metadata": {
  "kernelspec": {
   "display_name": "Python 3",
   "language": "python",
   "name": "python3"
  },
  "language_info": {
   "codemirror_mode": {
    "name": "ipython",
    "version": 2
   },
   "file_extension": ".py",
   "mimetype": "text/x-python",
   "name": "python",
   "nbconvert_exporter": "python",
   "pygments_lexer": "ipython2",
   "version": "2.7.6"
  }
 },
 "nbformat": 4,
 "nbformat_minor": 5
}
