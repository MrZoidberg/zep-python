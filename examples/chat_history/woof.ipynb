{
 "cells": [
  {
   "cell_type": "code",
   "id": "initial_id",
   "metadata": {
    "collapsed": true,
    "ExecuteTime": {
     "end_time": "2024-05-31T18:07:55.362343Z",
     "start_time": "2024-05-31T18:07:55.330213Z"
    }
   },
   "source": [
    "from zep_cloud import ZepDataType\n",
    "import typing\n",
    "from dotenv import load_dotenv\n",
    "from pydantic import BaseModel, Field, WithJsonSchema\n",
    "from typing_extensions import Annotated\n",
    "from typing import Optional\n",
    "from zep_cloud.client import AsyncZep\n",
    "import asyncio\n",
    "import os\n",
    "\n",
    "load_dotenv()\n",
    "\n",
    "class ZepBaseText(BaseModel):\n",
    "    description: typing.Optional[str] = None\n",
    "    type: ZepDataType = \"ZepText\"\n",
    "\n",
    "ZepText = Annotated[\n",
    "    str | None,\n",
    "    Field(default=None, zeptype=\"ZepText\"),\n",
    "    WithJsonSchema(ZepBaseText.model_json_schema(), mode='serialization'),\n",
    "]\n",
    "\n",
    "class ZepModel(BaseModel):\n",
    "    _client: Optional[AsyncZep] = None\n",
    "\n",
    "    def __init__(self, **data):\n",
    "        super().__init__(**data)\n",
    "        self._client = data.get('_client')\n",
    "\n",
    "    @property\n",
    "    def client(self):\n",
    "        return self._client\n",
    "    \n",
    "    async def extract(self):\n",
    "        model_schema = self.schema_json()\n",
    "        result = await self._client.memory.extract_session_data(\"a2eb841bc24245fdb0901b0a87a865cd\", last_n_messages=100, model_schema=model_schema)\n",
    "        print(\"Extracting\", result)\n",
    "\n",
    "API_KEY = os.environ.get(\"ZEP_API_KEY\")\n",
    "print(API_KEY)\n",
    "\n",
    "client = AsyncZep(\n",
    "        api_key=API_KEY,\n",
    "        base_url=\"http://localhost:8000/api/v2\"\n",
    "    )\n",
    "\n",
    "class TestModel (ZepModel):\n",
    "    a: ZepText = Field(description=\"This is a description\" )\n",
    "    b: ZepText = Field(description=\"This is a descriptionB\")\n",
    "    \n",
    "t = TestModel(a=\"hello\", b=\"world\", _client=client)\n",
    "\n",
    "print(t.client)\n",
    "\n",
    "# Create a task for the coroutine\n",
    "task = asyncio.create_task(t.extract())\n",
    "\n",
    "# Wait for the task to complete\n",
    "await asyncio.gather(task)\n",
    "\n",
    "# g = GuitarInfoModel(_client=client, session_id=\"session_id\", balls=\"lskdjf\")\n",
    "# \n",
    "# g.extract()"
   ],
   "outputs": [
    {
     "name": "stdout",
     "output_type": "stream",
     "text": [
      "z_1dWlkIjoiN2E0NjcxZmMtZDM5ZS00OTQ1LWE4YWMtODFjNTM5NTU5N2M1In0.um46UqJMM7XwfaG2BhwpLGVVrA4fxSZAzDbh_5cX3k9ickzBFZsp9NQFMLr8BN0tPpD2-7tUAv60eJsA907rEg\n",
      "<zep_cloud.client.AsyncZep object at 0x1122a1f60>\n"
     ]
    },
    {
     "ename": "TypeError",
     "evalue": "AsyncMemoryClient.extract_session_data() got an unexpected keyword argument 'model_schema'",
     "output_type": "error",
     "traceback": [
      "\u001B[0;31m---------------------------------------------------------------------------\u001B[0m",
      "\u001B[0;31mTypeError\u001B[0m                                 Traceback (most recent call last)",
      "Cell \u001B[0;32mIn[9], line 59\u001B[0m\n\u001B[1;32m     56\u001B[0m task \u001B[38;5;241m=\u001B[39m asyncio\u001B[38;5;241m.\u001B[39mcreate_task(t\u001B[38;5;241m.\u001B[39mextract())\n\u001B[1;32m     58\u001B[0m \u001B[38;5;66;03m# Wait for the task to complete\u001B[39;00m\n\u001B[0;32m---> 59\u001B[0m \u001B[38;5;28;01mawait\u001B[39;00m asyncio\u001B[38;5;241m.\u001B[39mgather(task)\n\u001B[1;32m     61\u001B[0m \u001B[38;5;66;03m# g = GuitarInfoModel(_client=client, session_id=\"session_id\", balls=\"lskdjf\")\u001B[39;00m\n\u001B[1;32m     62\u001B[0m \u001B[38;5;66;03m# \u001B[39;00m\n\u001B[1;32m     63\u001B[0m \u001B[38;5;66;03m# g.extract()\u001B[39;00m\n",
      "Cell \u001B[0;32mIn[9], line 36\u001B[0m, in \u001B[0;36mZepModel.extract\u001B[0;34m(self)\u001B[0m\n\u001B[1;32m     34\u001B[0m \u001B[38;5;28;01masync\u001B[39;00m \u001B[38;5;28;01mdef\u001B[39;00m \u001B[38;5;21mextract\u001B[39m(\u001B[38;5;28mself\u001B[39m):\n\u001B[1;32m     35\u001B[0m     model_schema \u001B[38;5;241m=\u001B[39m \u001B[38;5;28mself\u001B[39m\u001B[38;5;241m.\u001B[39mschema_json()\n\u001B[0;32m---> 36\u001B[0m     result \u001B[38;5;241m=\u001B[39m \u001B[38;5;28;01mawait\u001B[39;00m \u001B[38;5;28mself\u001B[39m\u001B[38;5;241m.\u001B[39m_client\u001B[38;5;241m.\u001B[39mmemory\u001B[38;5;241m.\u001B[39mextract_session_data(\u001B[38;5;124m\"\u001B[39m\u001B[38;5;124ma2eb841bc24245fdb0901b0a87a865cd\u001B[39m\u001B[38;5;124m\"\u001B[39m, last_n_messages\u001B[38;5;241m=\u001B[39m\u001B[38;5;241m100\u001B[39m, model_schema\u001B[38;5;241m=\u001B[39mmodel_schema)\n\u001B[1;32m     37\u001B[0m     \u001B[38;5;28mprint\u001B[39m(\u001B[38;5;124m\"\u001B[39m\u001B[38;5;124mExtracting\u001B[39m\u001B[38;5;124m\"\u001B[39m, result)\n",
      "\u001B[0;31mTypeError\u001B[0m: AsyncMemoryClient.extract_session_data() got an unexpected keyword argument 'model_schema'"
     ]
    }
   ],
   "execution_count": 9
  },
  {
   "metadata": {
    "ExecuteTime": {
     "end_time": "2024-05-31T15:03:23.899805Z",
     "start_time": "2024-05-31T15:03:23.895668Z"
    }
   },
   "cell_type": "code",
   "source": "",
   "id": "8452723807a4f7b4",
   "outputs": [],
   "execution_count": 20
  },
  {
   "metadata": {},
   "cell_type": "code",
   "outputs": [],
   "execution_count": null,
   "source": "",
   "id": "d010cb64f3ad7234"
  }
 ],
 "metadata": {
  "kernelspec": {
   "display_name": "Python 3",
   "language": "python",
   "name": "python3"
  },
  "language_info": {
   "codemirror_mode": {
    "name": "ipython",
    "version": 2
   },
   "file_extension": ".py",
   "mimetype": "text/x-python",
   "name": "python",
   "nbconvert_exporter": "python",
   "pygments_lexer": "ipython2",
   "version": "2.7.6"
  }
 },
 "nbformat": 4,
 "nbformat_minor": 5
}
