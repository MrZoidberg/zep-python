{
 "cells": [
  {
   "cell_type": "code",
   "id": "initial_id",
   "metadata": {
    "collapsed": true,
    "ExecuteTime": {
     "end_time": "2024-05-31T20:54:18.342289Z",
     "start_time": "2024-05-31T20:54:17.812870Z"
    }
   },
   "source": [
    "import json\n",
    "\n",
    "from zep_cloud import ZepDataType\n",
    "import typing\n",
    "from dotenv import load_dotenv\n",
    "from pydantic import BaseModel, Field, WithJsonSchema\n",
    "from typing_extensions import Annotated\n",
    "from typing import Optional\n",
    "from zep_cloud.client import AsyncZep\n",
    "import asyncio\n",
    "import os\n",
    "\n",
    "load_dotenv()\n",
    "\n",
    "class ZepBaseText(BaseModel):\n",
    "    description: typing.Optional[str] = None\n",
    "    type: ZepDataType = \"ZepText\"\n",
    "\n",
    "ZepText = Annotated[\n",
    "    str | None,\n",
    "    Field(default=None, zeptype=\"ZepText\"),\n",
    "    WithJsonSchema(ZepBaseText.model_json_schema(), mode='serialization'),\n",
    "]\n",
    "\n",
    "class ZepBaseNumber(BaseModel):\n",
    "    description: typing.Optional[str] = None\n",
    "    type: ZepDataType = \"ZepFloat\"\n",
    "\n",
    "ZepNumber = Annotated[\n",
    "    int | None,\n",
    "    Field(default=None, zeptype=\"ZepNumber\"),\n",
    "    WithJsonSchema(ZepBaseNumber.model_json_schema(), mode='serialization'),\n",
    "]\n",
    "\n",
    "class ZepBaseFloat(BaseModel):\n",
    "    description: typing.Optional[str] = None\n",
    "    type: ZepDataType = \"ZepFloat\"\n",
    "\n",
    "ZepFloat = Annotated[\n",
    "    float | None,\n",
    "    Field(default=None, zeptype=\"ZepFloat\"),\n",
    "    WithJsonSchema(ZepBaseNumber.model_json_schema(), mode='serialization'),\n",
    "]\n",
    "\n",
    "class ZepModel(BaseModel):\n",
    "    _client: Optional[AsyncZep] = None\n",
    "\n",
    "    def __init__(self, **data):\n",
    "        super().__init__(**data)\n",
    "        self._client = data.get('_client')\n",
    "\n",
    "    @property\n",
    "    def client(self):\n",
    "        return self._client\n",
    "    \n",
    "    async def extract(self):\n",
    "        model_schema = self.schema_json()\n",
    "        extractor_result = await self._client.memory.extract_session_data(\"a2eb841bc24245fdb0901b0a87a865cd\", last_n_messages=100, model_schema=model_schema)\n",
    "        print(\"Extracting\", result)\n",
    "        for key, value in extractor_result.items():\n",
    "            if hasattr(self, key):\n",
    "                setattr(self, key, value)\n",
    "        return self\n",
    "\n",
    "API_KEY = os.environ.get(\"ZEP_API_KEY\")\n",
    "print(API_KEY)\n",
    "\n",
    "client = AsyncZep(\n",
    "        api_key=API_KEY,\n",
    "        base_url=\"http://localhost:8000/api/v2\"\n",
    "    )\n",
    "\n",
    "class ShoeInfoModel (ZepModel):\n",
    "    shoes: ZepText = Field(description=\"what activity are the shoes used for?\" )\n",
    "    shoe_size: ZepNumber = Field(description=\"what is the user's shoe size?\" )\n",
    "    price: ZepFloat = Field(description=\"How much was spent on shoes\" )\n",
    "    \n",
    "t = ShoeInfoModel(_client=client)\n",
    "\n",
    "print(t.client)\n",
    "\n",
    "task = asyncio.create_task(t.extract())\n",
    "\n",
    "result = await asyncio.gather(task)\n",
    "\n",
    "# p = TestModel(**result[0])\n",
    "print(\"Result:\", result[0].shoe_size)\n",
    "print(\"Result:\", result[0].price)\n",
    "print(\"Result:\", result[0].shoes)\n"
   ],
   "outputs": [
    {
     "name": "stdout",
     "output_type": "stream",
     "text": [
      "z_1dWlkIjoiN2E0NjcxZmMtZDM5ZS00OTQ1LWE4YWMtODFjNTM5NTU5N2M1In0.um46UqJMM7XwfaG2BhwpLGVVrA4fxSZAzDbh_5cX3k9ickzBFZsp9NQFMLr8BN0tPpD2-7tUAv60eJsA907rEg\n",
      "<zep_cloud.client.AsyncZep object at 0x11c0c76a0>\n",
      "Extracting [TestModel(shoes='running', shoe_size='10', price='129.99')]\n",
      "Result: 10\n",
      "Result: 129.99\n",
      "Result: None\n"
     ]
    }
   ],
   "execution_count": 38
  },
  {
   "metadata": {
    "ExecuteTime": {
     "end_time": "2024-05-31T20:51:01.234199Z",
     "start_time": "2024-05-31T20:51:01.232139Z"
    }
   },
   "cell_type": "code",
   "source": "",
   "id": "d8abf52755552c11",
   "outputs": [],
   "execution_count": 30
  },
  {
   "metadata": {},
   "cell_type": "code",
   "outputs": [],
   "execution_count": null,
   "source": "",
   "id": "4341ebaa57d23a02"
  }
 ],
 "metadata": {
  "kernelspec": {
   "display_name": "Python 3",
   "language": "python",
   "name": "python3"
  },
  "language_info": {
   "codemirror_mode": {
    "name": "ipython",
    "version": 2
   },
   "file_extension": ".py",
   "mimetype": "text/x-python",
   "name": "python",
   "nbconvert_exporter": "python",
   "pygments_lexer": "ipython2",
   "version": "2.7.6"
  }
 },
 "nbformat": 4,
 "nbformat_minor": 5
}
