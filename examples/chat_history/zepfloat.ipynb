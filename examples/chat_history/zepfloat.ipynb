{
 "cells": [
  {
   "cell_type": "code",
   "id": "initial_id",
   "metadata": {
    "collapsed": true,
    "ExecuteTime": {
     "end_time": "2024-05-29T23:15:20.845270Z",
     "start_time": "2024-05-29T23:15:20.842083Z"
    }
   },
   "source": [
    "from enum import Enum\n",
    "from pydantic import BaseModel, Field, AfterValidator, WithJsonSchema, PlainSerializer\n",
    "from typing_extensions import Annotated "
   ],
   "outputs": [],
   "execution_count": 37
  },
  {
   "metadata": {
    "ExecuteTime": {
     "end_time": "2024-05-29T23:15:20.852158Z",
     "start_time": "2024-05-29T23:15:20.847165Z"
    }
   },
   "cell_type": "code",
   "source": [
    "import typing\n",
    "from zep_cloud import ZepDataType\n",
    "\n",
    "\n",
    "class ZepBaseFloat(BaseModel):\n",
    "    description: typing.Optional[str] = None\n",
    "    type: ZepDataType = \"ZepFloat\"\n",
    "\n",
    "ZepFloat = Annotated[\n",
    "    float | None,\n",
    "    Field(default=None, zeptype=\"ZepFloat\"),\n",
    "    WithJsonSchema(ZepBaseFloat.model_json_schema(), mode='serialization'),\n",
    "]"
   ],
   "id": "669bdf0708dd11c5",
   "outputs": [],
   "execution_count": 38
  },
  {
   "metadata": {
    "ExecuteTime": {
     "end_time": "2024-05-29T23:15:20.856858Z",
     "start_time": "2024-05-29T23:15:20.853275Z"
    }
   },
   "cell_type": "code",
   "source": [
    "class TestModel(BaseModel):\n",
    "    a: ZepFloat = Field(title=\"A\", description=\"This is a description\")\n",
    "    b: ZepFloat = Field(title=\"B\", description=\"This is a descriptionB\", )"
   ],
   "id": "99585596ae16c2b8",
   "outputs": [],
   "execution_count": 39
  },
  {
   "metadata": {
    "ExecuteTime": {
     "end_time": "2024-05-29T23:15:20.860431Z",
     "start_time": "2024-05-29T23:15:20.858570Z"
    }
   },
   "cell_type": "code",
   "source": "t = TestModel(a=1.0, b=2.0)",
   "id": "d4deadee9fb5f49b",
   "outputs": [],
   "execution_count": 40
  },
  {
   "metadata": {
    "ExecuteTime": {
     "end_time": "2024-05-29T23:15:20.864047Z",
     "start_time": "2024-05-29T23:15:20.861458Z"
    }
   },
   "cell_type": "code",
   "source": "t.model_dump_json()\n",
   "id": "1b3f62df581bf220",
   "outputs": [
    {
     "data": {
      "text/plain": [
       "'{\"a\":1.0,\"b\":2.0}'"
      ]
     },
     "execution_count": 41,
     "metadata": {},
     "output_type": "execute_result"
    }
   ],
   "execution_count": 41
  },
  {
   "metadata": {
    "ExecuteTime": {
     "end_time": "2024-05-29T23:15:20.867801Z",
     "start_time": "2024-05-29T23:15:20.864954Z"
    }
   },
   "cell_type": "code",
   "source": "t.schema_json()",
   "id": "9ef625b996c1eeb",
   "outputs": [
    {
     "data": {
      "text/plain": [
       "'{\"properties\": {\"a\": {\"anyOf\": [{\"type\": \"number\"}, {\"type\": \"null\"}], \"default\": null, \"description\": \"This is a description\", \"title\": \"A\", \"zeptype\": \"ZepNumber\"}, \"b\": {\"anyOf\": [{\"type\": \"number\"}, {\"type\": \"null\"}], \"default\": null, \"description\": \"This is a descriptionB\", \"title\": \"B\", \"zeptype\": \"ZepNumber\"}}, \"title\": \"TestModel\", \"type\": \"object\"}'"
      ]
     },
     "execution_count": 42,
     "metadata": {},
     "output_type": "execute_result"
    }
   ],
   "execution_count": 42
  }
 ],
 "metadata": {
  "kernelspec": {
   "display_name": "Python 3",
   "language": "python",
   "name": "python3"
  },
  "language_info": {
   "codemirror_mode": {
    "name": "ipython",
    "version": 2
   },
   "file_extension": ".py",
   "mimetype": "text/x-python",
   "name": "python",
   "nbconvert_exporter": "python",
   "pygments_lexer": "ipython2",
   "version": "2.7.6"
  }
 },
 "nbformat": 4,
 "nbformat_minor": 5
}
