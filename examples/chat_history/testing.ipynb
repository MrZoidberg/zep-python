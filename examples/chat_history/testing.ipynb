{
 "cells": [
  {
   "cell_type": "code",
   "id": "initial_id",
   "metadata": {
    "collapsed": true,
    "ExecuteTime": {
     "end_time": "2024-05-28T19:49:09.546920Z",
     "start_time": "2024-05-28T19:49:09.504805Z"
    }
   },
   "source": "from pydantic import BaseModel, Field",
   "outputs": [],
   "execution_count": 1
  },
  {
   "metadata": {
    "ExecuteTime": {
     "end_time": "2024-05-28T19:50:07.339263Z",
     "start_time": "2024-05-28T19:50:07.335168Z"
    }
   },
   "cell_type": "code",
   "source": [
    "class User(BaseModel):\n",
    "    id: int = Field(..., description='The user ID')\n",
    "    name: str = Field(..., description='The user name')\n"
   ],
   "id": "9b556f03f9a8bb42",
   "outputs": [],
   "execution_count": 7
  },
  {
   "metadata": {
    "ExecuteTime": {
     "end_time": "2024-05-28T19:50:08.041341Z",
     "start_time": "2024-05-28T19:50:08.036671Z"
    }
   },
   "cell_type": "code",
   "source": [
    "u = User(id=1, name='John Doe')\n",
    "u.model_dump_json()"
   ],
   "id": "9e36dfb5bdd7c97f",
   "outputs": [
    {
     "data": {
      "text/plain": [
       "'{\"id\":1,\"name\":\"John Doe\"}'"
      ]
     },
     "execution_count": 8,
     "metadata": {},
     "output_type": "execute_result"
    }
   ],
   "execution_count": 8
  },
  {
   "metadata": {
    "ExecuteTime": {
     "end_time": "2024-05-29T18:35:09.366606Z",
     "start_time": "2024-05-29T18:35:09.358572Z"
    }
   },
   "cell_type": "code",
   "source": "u.schema_json()",
   "id": "5da198d3543ad7a4",
   "outputs": [
    {
     "data": {
      "text/plain": [
       "'{\"properties\": {\"id\": {\"description\": \"The user ID\", \"title\": \"Id\", \"type\": \"integer\"}, \"name\": {\"description\": \"The user name\", \"title\": \"Name\", \"type\": \"string\"}}, \"required\": [\"id\", \"name\"], \"title\": \"User\", \"type\": \"object\"}'"
      ]
     },
     "execution_count": 26,
     "metadata": {},
     "output_type": "execute_result"
    }
   ],
   "execution_count": 26
  },
  {
   "metadata": {
    "ExecuteTime": {
     "end_time": "2024-05-28T19:50:59.939087Z",
     "start_time": "2024-05-28T19:50:59.934246Z"
    }
   },
   "cell_type": "code",
   "source": [
    "class ShoeInfoModel(BaseModel):\n",
    "    shoe_size: int = Field(..., description=\"This is a field from the base model\")"
   ],
   "id": "d81879b5a6ba39b9",
   "outputs": [],
   "execution_count": 11
  },
  {
   "metadata": {
    "ExecuteTime": {
     "end_time": "2024-05-29T18:35:21.154516Z",
     "start_time": "2024-05-29T18:35:21.150670Z"
    }
   },
   "cell_type": "code",
   "source": [
    "si = ShoeInfoModel(shoe_size=10)\n",
    "si.schema_json()\n",
    "# si.model_dump_json()"
   ],
   "id": "adc545199a8d84ce",
   "outputs": [
    {
     "data": {
      "text/plain": [
       "'{\"properties\": {\"shoe_size\": {\"anyOf\": [{\"type\": \"number\"}, {\"type\": \"null\"}], \"description\": \"Extract the users shoe size\", \"title\": \"Shoe Size\"}}, \"required\": [\"shoe_size\"], \"title\": \"ShoeInfoModel\", \"type\": \"object\"}'"
      ]
     },
     "execution_count": 27,
     "metadata": {},
     "output_type": "execute_result"
    }
   ],
   "execution_count": 27
  },
  {
   "metadata": {
    "ExecuteTime": {
     "end_time": "2024-05-28T19:51:40.290491Z",
     "start_time": "2024-05-28T19:51:40.287027Z"
    }
   },
   "cell_type": "code",
   "source": "si.json()",
   "id": "27986840258488e7",
   "outputs": [
    {
     "data": {
      "text/plain": [
       "'{\"shoe_size\":10}'"
      ]
     },
     "execution_count": 13,
     "metadata": {},
     "output_type": "execute_result"
    }
   ],
   "execution_count": 13
  },
  {
   "metadata": {
    "ExecuteTime": {
     "end_time": "2024-05-29T01:24:56.485595Z",
     "start_time": "2024-05-29T01:24:56.480217Z"
    }
   },
   "cell_type": "code",
   "source": [
    "from zep_cloud import ZepDataType\n",
    "import typing \n",
    "from typing import Optional\n",
    "from pydantic import BaseModel, Field, AfterValidator, WithJsonSchema, PlainSerializer\n",
    "from typing_extensions import Annotated\n",
    "\n",
    "\n",
    "class ZepBaseFloat(BaseModel):\n",
    "    description: typing.Optional[str] = None\n",
    "    type: ZepDataType = \"ZepFloat\"\n",
    "\n",
    "\n",
    "ZepFloat = Annotated[\n",
    "    float,\n",
    "    AfterValidator(lambda x: round(x, 1)),\n",
    "    PlainSerializer(lambda x: f'{x:.1e}', return_type=str),\n",
    "    WithJsonSchema(ZepBaseFloat.model_json_schema(), mode='serialization'),\n",
    "]"
   ],
   "id": "13d1d950bec3f6c9",
   "outputs": [],
   "execution_count": 19
  },
  {
   "metadata": {
    "ExecuteTime": {
     "end_time": "2024-05-29T01:24:57.044214Z",
     "start_time": "2024-05-29T01:24:57.041148Z"
    }
   },
   "cell_type": "code",
   "source": [
    "class ShoeInfoModel(BaseModel):\n",
    "    shoe_size: Optional[ZepFloat] = Field(..., description=\"Extract the users shoe size\")"
   ],
   "id": "4452c2ead45c8f59",
   "outputs": [],
   "execution_count": 20
  },
  {
   "metadata": {
    "ExecuteTime": {
     "end_time": "2024-05-29T01:25:34.016991Z",
     "start_time": "2024-05-29T01:25:34.012960Z"
    }
   },
   "cell_type": "code",
   "source": [
    "zep_data_classes = []\n",
    "for field in ShoeInfoModel.model_fields.items():\n",
    "    print(field[1].annotation)"
   ],
   "id": "baa69636ce82c8cf",
   "outputs": [
    {
     "name": "stdout",
     "output_type": "stream",
     "text": [
      "typing.Optional[typing.Annotated[float, AfterValidator(func=<function <lambda> at 0x121018040>), PlainSerializer(func=<function <lambda> at 0x121019ab0>, return_type=<class 'str'>, when_used='always'), WithJsonSchema(json_schema={'properties': {'description': {'anyOf': [{'type': 'string'}, {'type': 'null'}], 'default': None, 'title': 'Description'}, 'type': {'anyOf': [{'enum': ['ZepText', 'ZepZipCode', 'ZepDate', 'ZepDateTime', 'ZepEmail', 'ZepPhoneNumber', 'ZepFloat', 'ZepNumber', 'ZepRegex'], 'type': 'string'}, {}], 'default': 'ZepFloat', 'title': 'Type'}}, 'title': 'ZepBaseFloat', 'type': 'object'}, mode='serialization')]]\n"
     ]
    }
   ],
   "execution_count": 21
  },
  {
   "metadata": {
    "ExecuteTime": {
     "end_time": "2024-05-29T01:27:34.053813Z",
     "start_time": "2024-05-29T01:27:34.050759Z"
    }
   },
   "cell_type": "code",
   "source": [
    "import pydantic\n",
    "\n",
    "pydantic.__version__\n"
   ],
   "id": "5a264471ab7f799d",
   "outputs": [
    {
     "data": {
      "text/plain": [
       "'2.7.1'"
      ]
     },
     "execution_count": 24,
     "metadata": {},
     "output_type": "execute_result"
    }
   ],
   "execution_count": 24
  },
  {
   "metadata": {},
   "cell_type": "code",
   "outputs": [],
   "execution_count": null,
   "source": [
    "class TestModel(BaseModel):\n",
    "    a: TruncatedFloat = Field(..., title=\"A\", description=\"This is a description\")\n",
    "    b: ZepFloat = Field(..., title=\"B\", description=\"This is a descriptionB\")"
   ],
   "id": "626ef58af6387c9d"
  }
 ],
 "metadata": {
  "kernelspec": {
   "display_name": "Python 3",
   "language": "python",
   "name": "python3"
  },
  "language_info": {
   "codemirror_mode": {
    "name": "ipython",
    "version": 2
   },
   "file_extension": ".py",
   "mimetype": "text/x-python",
   "name": "python",
   "nbconvert_exporter": "python",
   "pygments_lexer": "ipython2",
   "version": "2.7.6"
  }
 },
 "nbformat": 4,
 "nbformat_minor": 5
}
