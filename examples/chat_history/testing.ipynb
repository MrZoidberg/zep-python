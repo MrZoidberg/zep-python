{
 "cells": [
  {
   "cell_type": "code",
   "id": "initial_id",
   "metadata": {
    "collapsed": true,
    "ExecuteTime": {
     "end_time": "2024-05-28T19:49:09.546920Z",
     "start_time": "2024-05-28T19:49:09.504805Z"
    }
   },
   "source": "from pydantic import BaseModel, Field",
   "execution_count": 1,
   "outputs": []
  },
  {
   "metadata": {
    "ExecuteTime": {
     "end_time": "2024-05-28T19:50:07.339263Z",
     "start_time": "2024-05-28T19:50:07.335168Z"
    }
   },
   "cell_type": "code",
   "source": [
    "class User(BaseModel):\n",
    "    id: int = Field(..., description='The user ID')\n",
    "    name: str = Field(..., description='The user name')\n"
   ],
   "id": "9b556f03f9a8bb42",
   "execution_count": 7,
   "outputs": []
  },
  {
   "metadata": {
    "ExecuteTime": {
     "end_time": "2024-05-28T19:50:08.041341Z",
     "start_time": "2024-05-28T19:50:08.036671Z"
    }
   },
   "cell_type": "code",
   "source": [
    "u = User(id=1, name='John Doe')\n",
    "u.model_dump_json()"
   ],
   "id": "9e36dfb5bdd7c97f",
   "execution_count": 8,
   "outputs": []
  },
  {
   "metadata": {
    "ExecuteTime": {
     "end_time": "2024-05-29T18:35:09.366606Z",
     "start_time": "2024-05-29T18:35:09.358572Z"
    }
   },
   "cell_type": "code",
   "source": "u.schema_json()",
   "id": "5da198d3543ad7a4",
   "execution_count": 26,
   "outputs": []
  },
  {
   "metadata": {
    "ExecuteTime": {
     "end_time": "2024-05-28T19:50:59.939087Z",
     "start_time": "2024-05-28T19:50:59.934246Z"
    }
   },
   "cell_type": "code",
   "source": [
    "class ShoeInfoModel(BaseModel):\n",
    "    shoe_size: int = Field(..., description=\"This is a field from the base model\")"
   ],
   "id": "d81879b5a6ba39b9",
   "execution_count": 11,
   "outputs": []
  },
  {
   "metadata": {
    "ExecuteTime": {
     "end_time": "2024-05-29T18:35:21.154516Z",
     "start_time": "2024-05-29T18:35:21.150670Z"
    }
   },
   "cell_type": "code",
   "source": [
    "si = ShoeInfoModel(shoe_size=10)\n",
    "si.schema_json()\n",
    "# si.model_dump_json()"
   ],
   "id": "adc545199a8d84ce",
   "execution_count": 27,
   "outputs": []
  },
  {
   "metadata": {
    "ExecuteTime": {
     "end_time": "2024-05-28T19:51:40.290491Z",
     "start_time": "2024-05-28T19:51:40.287027Z"
    }
   },
   "cell_type": "code",
   "source": "si.json()",
   "id": "27986840258488e7",
   "execution_count": 13,
   "outputs": []
  },
  {
   "metadata": {
    "ExecuteTime": {
     "end_time": "2024-05-29T01:24:56.485595Z",
     "start_time": "2024-05-29T01:24:56.480217Z"
    }
   },
   "cell_type": "code",
   "source": [
    "from zep_cloud import ZepDataType\n",
    "import typing \n",
    "from typing import Optional\n",
    "from pydantic import BaseModel, Field, AfterValidator, WithJsonSchema, PlainSerializer\n",
    "from typing_extensions import Annotated\n",
    "\n",
    "\n",
    "class ZepBaseFloat(BaseModel):\n",
    "    description: typing.Optional[str] = None\n",
    "    type: ZepDataType = \"ZepFloat\"\n",
    "\n",
    "\n",
    "ZepFloat = Annotated[\n",
    "    float,\n",
    "    AfterValidator(lambda x: round(x, 1)),\n",
    "    PlainSerializer(lambda x: f'{x:.1e}', return_type=str),\n",
    "    WithJsonSchema(ZepBaseFloat.model_json_schema(), mode='serialization'),\n",
    "]"
   ],
   "id": "13d1d950bec3f6c9",
   "execution_count": 19,
   "outputs": []
  },
  {
   "metadata": {
    "ExecuteTime": {
     "end_time": "2024-05-29T01:24:57.044214Z",
     "start_time": "2024-05-29T01:24:57.041148Z"
    }
   },
   "cell_type": "code",
   "source": [
    "class ShoeInfoModel(BaseModel):\n",
    "    shoe_size: Optional[ZepFloat] = Field(..., description=\"Extract the users shoe size\")"
   ],
   "id": "4452c2ead45c8f59",
   "execution_count": 20,
   "outputs": []
  },
  {
   "metadata": {
    "ExecuteTime": {
     "end_time": "2024-05-29T01:25:34.016991Z",
     "start_time": "2024-05-29T01:25:34.012960Z"
    }
   },
   "cell_type": "code",
   "source": [
    "zep_data_classes = []\n",
    "for field in ShoeInfoModel.model_fields.items():\n",
    "    print(field[1].annotation)"
   ],
   "id": "baa69636ce82c8cf",
   "execution_count": 21,
   "outputs": []
  },
  {
   "metadata": {
    "ExecuteTime": {
     "end_time": "2024-05-29T01:27:34.053813Z",
     "start_time": "2024-05-29T01:27:34.050759Z"
    }
   },
   "cell_type": "code",
   "source": [
    "import pydantic\n",
    "\n",
    "pydantic.__version__\n"
   ],
   "id": "5a264471ab7f799d",
   "execution_count": 24,
   "outputs": []
  },
  {
   "metadata": {},
   "cell_type": "code",
   "execution_count": null,
   "source": [
    "class TestModel(BaseModel):\n",
    "    a: TruncatedFloat = Field(..., title=\"A\", description=\"This is a description\")\n",
    "    b: ZepFloat = Field(..., title=\"B\", description=\"This is a descriptionB\")"
   ],
   "id": "626ef58af6387c9d",
   "outputs": []
  }
 ],
 "metadata": {
  "kernelspec": {
   "display_name": "Python 3",
   "language": "python",
   "name": "python3"
  },
  "language_info": {
   "codemirror_mode": {
    "name": "ipython",
    "version": 2
   },
   "file_extension": ".py",
   "mimetype": "text/x-python",
   "name": "python",
   "nbconvert_exporter": "python",
   "pygments_lexer": "ipython2",
   "version": "2.7.6"
  }
 },
 "nbformat": 4,
 "nbformat_minor": 5
}
