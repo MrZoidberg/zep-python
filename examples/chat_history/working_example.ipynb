{
 "cells": [
  {
   "cell_type": "code",
   "id": "initial_id",
   "metadata": {
    "collapsed": true,
    "ExecuteTime": {
     "end_time": "2024-06-02T18:34:54.034425Z",
     "start_time": "2024-06-02T18:34:50.564940Z"
    }
   },
   "source": [
    "from zep_cloud import ZepDataType\n",
    "import typing\n",
    "from dotenv import load_dotenv\n",
    "from pydantic import BaseModel, Field, WithJsonSchema, BeforeValidator, AfterValidator, PlainSerializer\n",
    "from typing_extensions import Annotated\n",
    "from typing import Optional\n",
    "from zep_cloud.client import AsyncZep\n",
    "import asyncio\n",
    "import os\n",
    "\n",
    "load_dotenv()\n",
    "\n",
    "class ZepBaseText(BaseModel):\n",
    "    description: typing.Optional[str] = None\n",
    "    type: ZepDataType = \"ZepText\"\n",
    "\n",
    "ZepText = Annotated[\n",
    "    str | None,\n",
    "    Field(default=None, zeptype=\"ZepText\"),\n",
    "    WithJsonSchema(ZepBaseText.model_json_schema(), mode='serialization'),\n",
    "]\n",
    "\n",
    "class ZepBaseNumber(BaseModel):\n",
    "    description: typing.Optional[str] = None\n",
    "    type: ZepDataType = \"ZepFloat\"\n",
    "\n",
    "ZepNumber = Annotated[\n",
    "    int | None,\n",
    "    Field(default=None, zeptype=\"ZepNumber\"),\n",
    "    WithJsonSchema(ZepBaseNumber.model_json_schema(), mode='serialization'),\n",
    "]\n",
    "\n",
    "class ZepBaseFloat(BaseModel):\n",
    "    description: typing.Optional[str] = None\n",
    "    type: ZepDataType = \"ZepFloat\"\n",
    "\n",
    "ZepFloat = Annotated[\n",
    "    float | None,\n",
    "    Field(default=None, zeptype=\"ZepFloat\"),\n",
    "    WithJsonSchema(ZepBaseNumber.model_json_schema(), mode='serialization'),\n",
    "]\n",
    "\n",
    "class ZepModel(BaseModel):\n",
    "    _client: Optional[AsyncZep] = None\n",
    "\n",
    "    def __init__(self, **data):\n",
    "        super().__init__(**data)\n",
    "        self._client = data.get('_client')\n",
    "\n",
    "    @property\n",
    "    def client(self):\n",
    "        return self._client\n",
    "    \n",
    "    def convert_value(self, key, value):\n",
    "        field_type = self.__annotations__[key]\n",
    "        if field_type == ZepText:\n",
    "            return str(value)\n",
    "        elif field_type == ZepNumber:\n",
    "            return int(value)\n",
    "        elif field_type == ZepFloat:\n",
    "            return float(value) \n",
    "        else:\n",
    "            return value\n",
    "\n",
    "    \n",
    "    async def extract(self, session_id: str, last_n_messages: int = 100):\n",
    "        model_schema = self.schema_json()\n",
    "        extractor_result = await self._client.memory.extract_session_data(session_id, last_n_messages=last_n_messages, model_schema=model_schema)\n",
    "        for key, value in extractor_result.items():\n",
    "            if hasattr(self, key):\n",
    "                converted_value = self.convert_value(key, value)\n",
    "                print(f'Type of {key}: {type(converted_value)}')\n",
    "                setattr(self, key, converted_value)\n",
    "                \n",
    "        return self\n",
    "\n",
    "API_KEY = os.environ.get(\"ZEP_API_KEY\")\n",
    "\n",
    "client = AsyncZep(\n",
    "        api_key=API_KEY,\n",
    "        base_url=\"http://localhost:8000/api/v2\"\n",
    "    )\n",
    "\n",
    "class ShoeInfoModel(ZepModel):\n",
    "    shoes: ZepText = Field(description=\"what activity are the shoes used for?\" )\n",
    "    shoe_size: ZepNumber = Field(description=\"what is the user's shoe size?\" )\n",
    "    price: ZepFloat = Field(description=\"How much was spent on shoes?\" )\n",
    "    \n",
    "t = ShoeInfoModel(_client=client)\n",
    "\n",
    "task = asyncio.create_task(t.extract(\"a2eb841bc24245fdb0901b0a87a865cd\", 100))\n",
    "\n",
    "result = await asyncio.gather(task)\n",
    "\n",
    "\n",
    "print(\"Result:\", result[0].shoe_size, type(result[0].shoe_size))\n",
    "print(\"Result:\", result[0].price,type(result[0].price))\n",
    "print(\"Result:\", result[0].shoes)\n"
   ],
   "outputs": [
    {
     "name": "stdout",
     "output_type": "stream",
     "text": [
      "Type of price: <class 'float'>\n",
      "Type of shoe_size: <class 'int'>\n",
      "Type of shoes: <class 'str'>\n",
      "Result: 10 <class 'int'>\n",
      "Result: 129.99 <class 'float'>\n",
      "Result: running\n"
     ]
    }
   ],
   "execution_count": 60
  },
  {
   "metadata": {
    "ExecuteTime": {
     "end_time": "2024-05-31T20:51:01.234199Z",
     "start_time": "2024-05-31T20:51:01.232139Z"
    }
   },
   "cell_type": "code",
   "source": "",
   "id": "d8abf52755552c11",
   "outputs": [],
   "execution_count": 30
  },
  {
   "metadata": {},
   "cell_type": "code",
   "outputs": [],
   "execution_count": null,
   "source": "",
   "id": "4341ebaa57d23a02"
  }
 ],
 "metadata": {
  "kernelspec": {
   "display_name": "Python 3",
   "language": "python",
   "name": "python3"
  },
  "language_info": {
   "codemirror_mode": {
    "name": "ipython",
    "version": 2
   },
   "file_extension": ".py",
   "mimetype": "text/x-python",
   "name": "python",
   "nbconvert_exporter": "python",
   "pygments_lexer": "ipython2",
   "version": "2.7.6"
  }
 },
 "nbformat": 4,
 "nbformat_minor": 5
}
